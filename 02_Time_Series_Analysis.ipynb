{
  "cells": [
    {
      "cell_type": "code",
      "execution_count": 1,
      "metadata": {
        "colab": {
          "base_uri": "https://localhost:8080/",
          "height": 112
        },
        "id": "ycGplJUhNCQU",
        "outputId": "71d157c3-cf23-421e-bcea-e7d4ee7bfb2b"
      },
      "outputs": [
        {
          "data": {
            "application/vnd.microsoft.datawrangler.viewer.v0+json": {
              "columns": [
                {
                  "name": "index",
                  "rawType": "int64",
                  "type": "integer"
                },
                {
                  "name": "YEAR",
                  "rawType": "int64",
                  "type": "integer"
                },
                {
                  "name": "MONTH",
                  "rawType": "int64",
                  "type": "integer"
                },
                {
                  "name": "SUPPLIER",
                  "rawType": "object",
                  "type": "string"
                },
                {
                  "name": "ITEM CODE",
                  "rawType": "object",
                  "type": "string"
                },
                {
                  "name": "ITEM DESCRIPTION",
                  "rawType": "object",
                  "type": "string"
                },
                {
                  "name": "ITEM TYPE",
                  "rawType": "object",
                  "type": "string"
                },
                {
                  "name": "RETAIL SALES",
                  "rawType": "float64",
                  "type": "float"
                },
                {
                  "name": "RETAIL TRANSFERS",
                  "rawType": "float64",
                  "type": "float"
                },
                {
                  "name": "WAREHOUSE SALES",
                  "rawType": "float64",
                  "type": "float"
                }
              ],
              "conversionMethod": "pd.DataFrame",
              "ref": "b40f2c1c-72d4-4955-a07c-9083d16f8e47",
              "rows": [
                [
                  "0",
                  "2020",
                  "1",
                  "REPUBLIC NATIONAL DISTRIBUTING CO",
                  "100009",
                  "BOOTLEG RED - 750ML",
                  "WINE",
                  "0.0",
                  "0.0",
                  "2.0"
                ],
                [
                  "1",
                  "2020",
                  "1",
                  "PWSWN INC",
                  "100024",
                  "MOMENT DE PLAISIR - 750ML",
                  "WINE",
                  "0.0",
                  "1.0",
                  "4.0"
                ]
              ],
              "shape": {
                "columns": 9,
                "rows": 2
              }
            },
            "text/html": [
              "<div>\n",
              "<style scoped>\n",
              "    .dataframe tbody tr th:only-of-type {\n",
              "        vertical-align: middle;\n",
              "    }\n",
              "\n",
              "    .dataframe tbody tr th {\n",
              "        vertical-align: top;\n",
              "    }\n",
              "\n",
              "    .dataframe thead th {\n",
              "        text-align: right;\n",
              "    }\n",
              "</style>\n",
              "<table border=\"1\" class=\"dataframe\">\n",
              "  <thead>\n",
              "    <tr style=\"text-align: right;\">\n",
              "      <th></th>\n",
              "      <th>YEAR</th>\n",
              "      <th>MONTH</th>\n",
              "      <th>SUPPLIER</th>\n",
              "      <th>ITEM CODE</th>\n",
              "      <th>ITEM DESCRIPTION</th>\n",
              "      <th>ITEM TYPE</th>\n",
              "      <th>RETAIL SALES</th>\n",
              "      <th>RETAIL TRANSFERS</th>\n",
              "      <th>WAREHOUSE SALES</th>\n",
              "    </tr>\n",
              "  </thead>\n",
              "  <tbody>\n",
              "    <tr>\n",
              "      <th>0</th>\n",
              "      <td>2020</td>\n",
              "      <td>1</td>\n",
              "      <td>REPUBLIC NATIONAL DISTRIBUTING CO</td>\n",
              "      <td>100009</td>\n",
              "      <td>BOOTLEG RED - 750ML</td>\n",
              "      <td>WINE</td>\n",
              "      <td>0.0</td>\n",
              "      <td>0.0</td>\n",
              "      <td>2.0</td>\n",
              "    </tr>\n",
              "    <tr>\n",
              "      <th>1</th>\n",
              "      <td>2020</td>\n",
              "      <td>1</td>\n",
              "      <td>PWSWN INC</td>\n",
              "      <td>100024</td>\n",
              "      <td>MOMENT DE PLAISIR - 750ML</td>\n",
              "      <td>WINE</td>\n",
              "      <td>0.0</td>\n",
              "      <td>1.0</td>\n",
              "      <td>4.0</td>\n",
              "    </tr>\n",
              "  </tbody>\n",
              "</table>\n",
              "</div>"
            ],
            "text/plain": [
              "   YEAR  MONTH                           SUPPLIER ITEM CODE  \\\n",
              "0  2020      1  REPUBLIC NATIONAL DISTRIBUTING CO    100009   \n",
              "1  2020      1                          PWSWN INC    100024   \n",
              "\n",
              "            ITEM DESCRIPTION ITEM TYPE  RETAIL SALES  RETAIL TRANSFERS  \\\n",
              "0        BOOTLEG RED - 750ML      WINE           0.0               0.0   \n",
              "1  MOMENT DE PLAISIR - 750ML      WINE           0.0               1.0   \n",
              "\n",
              "   WAREHOUSE SALES  \n",
              "0              2.0  \n",
              "1              4.0  "
            ]
          },
          "execution_count": 1,
          "metadata": {},
          "output_type": "execute_result"
        }
      ],
      "source": [
        "import pandas as pd\n",
        "import numpy as np\n",
        "import matplotlib.pyplot as plt\n",
        "import seaborn as sns\n",
        "from matplotlib.ticker import FuncFormatter\n",
        "\n",
        "import warnings\n",
        "warnings.filterwarnings('ignore')\n",
        "\n",
        "df = pd.read_csv(r'C:\\Users\\Mohamed Fawzi\\Desktop\\Warehouse Sales\\Warehouse_and_Retail_Sales.csv')\n",
        "\n",
        "df.head(2)"
      ]
    },
    {
      "cell_type": "markdown",
      "metadata": {
        "id": "3ksy1ch9kTZI"
      },
      "source": [
        "# Cleaning & Preparing The Data"
      ]
    },
    {
      "cell_type": "code",
      "execution_count": 2,
      "metadata": {
        "id": "VaCegRXcY8XU"
      },
      "outputs": [],
      "source": [
        "# I will convert all columns name to be title case - I prefer it like that :)\n",
        "df.columns = df.columns.str.title()"
      ]
    },
    {
      "cell_type": "code",
      "execution_count": 3,
      "metadata": {
        "id": "q_EcpE25faOK"
      },
      "outputs": [],
      "source": [
        "# drop null values\n",
        "df.dropna(inplace=True)"
      ]
    },
    {
      "cell_type": "code",
      "execution_count": 4,
      "metadata": {
        "colab": {
          "base_uri": "https://localhost:8080/",
          "height": 366
        },
        "id": "8XXfHOv3fhed",
        "outputId": "79b8b8d4-124b-4e90-ac2c-59e440867ce3"
      },
      "outputs": [
        {
          "data": {
            "text/plain": [
              "Year                0\n",
              "Month               0\n",
              "Supplier            0\n",
              "Item Code           0\n",
              "Item Description    0\n",
              "Item Type           0\n",
              "Retail Sales        0\n",
              "Retail Transfers    0\n",
              "Warehouse Sales     0\n",
              "dtype: int64"
            ]
          },
          "execution_count": 4,
          "metadata": {},
          "output_type": "execute_result"
        }
      ],
      "source": [
        "df.isna().sum()"
      ]
    },
    {
      "cell_type": "code",
      "execution_count": 5,
      "metadata": {
        "id": "CPhYpD1zo3AU"
      },
      "outputs": [],
      "source": [
        "# exclude 'STR_SUPPLIES', 'KEGS', 'REF', 'DUNNAGE', because most of the values are zeros\n",
        "df = df[df['Item Type'].isin(['WINE', 'BEER', 'LIQUOR','NON-ALCOHOL'])]"
      ]
    },
    {
      "cell_type": "code",
      "execution_count": 6,
      "metadata": {
        "colab": {
          "base_uri": "https://localhost:8080/"
        },
        "id": "8FJWkZqBe5Cd",
        "outputId": "ea47f749-fdb4-4bc8-c506-8e656fa85236"
      },
      "outputs": [
        {
          "data": {
            "text/plain": [
              "array(['WINE', 'BEER', 'LIQUOR', 'NON-ALCOHOL'], dtype=object)"
            ]
          },
          "execution_count": 6,
          "metadata": {},
          "output_type": "execute_result"
        }
      ],
      "source": [
        "df['Item Type'].unique()\n"
      ]
    },
    {
      "cell_type": "code",
      "execution_count": 7,
      "metadata": {
        "id": "sTVbfddhqUDV"
      },
      "outputs": [],
      "source": [
        "# Calculate mean values for only saleable items\n",
        "saleable_items = ['WINE', 'BEER', 'LIQUOR', 'NON-ALCOHOL']  # Define saleable items\n",
        "mean_values = df[df['Item Type'].isin(saleable_items)].groupby('Item Type')[['Warehouse Sales', 'Retail Transfers', 'Retail Sales']].mean()\n",
        "\n",
        "# Define a function to replace zeros\n",
        "def replace_zeros_with_mean(row, mean_values):\n",
        "    item_type = row['Item Type']\n",
        "    for col in ['Warehouse Sales', 'Retail Transfers', 'Retail Sales']:\n",
        "        if row[col] == 0.0 and item_type in mean_values.index:\n",
        "            row[col] = mean_values.loc[item_type, col]  # Replace zero with mean for this item type\n",
        "    return row\n",
        "\n",
        "# Apply the function to rows where the item type is saleable\n",
        "df = df.apply(replace_zeros_with_mean, mean_values=mean_values, axis=1)"
      ]
    },
    {
      "cell_type": "code",
      "execution_count": 8,
      "metadata": {
        "colab": {
          "base_uri": "https://localhost:8080/",
          "height": 81
        },
        "id": "Pz-X6BKAdlwv",
        "outputId": "44b0c161-4f6e-4144-82b9-a40c6987fbe3"
      },
      "outputs": [
        {
          "data": {
            "application/vnd.microsoft.datawrangler.viewer.v0+json": {
              "columns": [
                {
                  "name": "index",
                  "rawType": "int64",
                  "type": "integer"
                },
                {
                  "name": "Year",
                  "rawType": "int64",
                  "type": "integer"
                },
                {
                  "name": "Month",
                  "rawType": "int64",
                  "type": "integer"
                },
                {
                  "name": "Supplier",
                  "rawType": "object",
                  "type": "string"
                },
                {
                  "name": "Item Code",
                  "rawType": "object",
                  "type": "string"
                },
                {
                  "name": "Item Description",
                  "rawType": "object",
                  "type": "string"
                },
                {
                  "name": "Item Type",
                  "rawType": "object",
                  "type": "string"
                },
                {
                  "name": "Retail Sales",
                  "rawType": "float64",
                  "type": "float"
                },
                {
                  "name": "Retail Transfers",
                  "rawType": "float64",
                  "type": "float"
                },
                {
                  "name": "Warehouse Sales",
                  "rawType": "float64",
                  "type": "float"
                }
              ],
              "conversionMethod": "pd.DataFrame",
              "ref": "698e0fe5-4b83-4834-823a-e9f85f35db0d",
              "rows": [
                [
                  "228853",
                  "2019",
                  "6",
                  "BACCHUS IMPORTERS LTD",
                  "45069",
                  "AVALON NAPA CAB - 750ML",
                  "WINE",
                  "0.48",
                  "3.9150396503943723",
                  "3.0"
                ]
              ],
              "shape": {
                "columns": 9,
                "rows": 1
              }
            },
            "text/html": [
              "<div>\n",
              "<style scoped>\n",
              "    .dataframe tbody tr th:only-of-type {\n",
              "        vertical-align: middle;\n",
              "    }\n",
              "\n",
              "    .dataframe tbody tr th {\n",
              "        vertical-align: top;\n",
              "    }\n",
              "\n",
              "    .dataframe thead th {\n",
              "        text-align: right;\n",
              "    }\n",
              "</style>\n",
              "<table border=\"1\" class=\"dataframe\">\n",
              "  <thead>\n",
              "    <tr style=\"text-align: right;\">\n",
              "      <th></th>\n",
              "      <th>Year</th>\n",
              "      <th>Month</th>\n",
              "      <th>Supplier</th>\n",
              "      <th>Item Code</th>\n",
              "      <th>Item Description</th>\n",
              "      <th>Item Type</th>\n",
              "      <th>Retail Sales</th>\n",
              "      <th>Retail Transfers</th>\n",
              "      <th>Warehouse Sales</th>\n",
              "    </tr>\n",
              "  </thead>\n",
              "  <tbody>\n",
              "    <tr>\n",
              "      <th>228853</th>\n",
              "      <td>2019</td>\n",
              "      <td>6</td>\n",
              "      <td>BACCHUS IMPORTERS LTD</td>\n",
              "      <td>45069</td>\n",
              "      <td>AVALON NAPA CAB - 750ML</td>\n",
              "      <td>WINE</td>\n",
              "      <td>0.48</td>\n",
              "      <td>3.91504</td>\n",
              "      <td>3.0</td>\n",
              "    </tr>\n",
              "  </tbody>\n",
              "</table>\n",
              "</div>"
            ],
            "text/plain": [
              "        Year  Month               Supplier Item Code         Item Description  \\\n",
              "228853  2019      6  BACCHUS IMPORTERS LTD     45069  AVALON NAPA CAB - 750ML   \n",
              "\n",
              "       Item Type  Retail Sales  Retail Transfers  Warehouse Sales  \n",
              "228853      WINE          0.48           3.91504              3.0  "
            ]
          },
          "execution_count": 8,
          "metadata": {},
          "output_type": "execute_result"
        }
      ],
      "source": [
        "df.sample()"
      ]
    },
    {
      "cell_type": "code",
      "execution_count": 9,
      "metadata": {
        "colab": {
          "base_uri": "https://localhost:8080/"
        },
        "id": "qSfNo5P_lSXC",
        "outputId": "686062ae-1e02-4d94-ff4b-efc13ba36e79"
      },
      "outputs": [
        {
          "name": "stdout",
          "output_type": "stream",
          "text": [
            "<class 'pandas.core.frame.DataFrame'>\n",
            "Index: 296862 entries, 0 to 307644\n",
            "Data columns (total 10 columns):\n",
            " #   Column            Non-Null Count   Dtype         \n",
            "---  ------            --------------   -----         \n",
            " 0   Year              296862 non-null  int64         \n",
            " 1   Month             296862 non-null  int64         \n",
            " 2   Supplier          296862 non-null  object        \n",
            " 3   Item Code         296862 non-null  object        \n",
            " 4   Item Description  296862 non-null  object        \n",
            " 5   Item Type         296862 non-null  object        \n",
            " 6   Retail Sales      296862 non-null  float64       \n",
            " 7   Retail Transfers  296862 non-null  float64       \n",
            " 8   Warehouse Sales   296862 non-null  float64       \n",
            " 9   Date              296862 non-null  datetime64[ns]\n",
            "dtypes: datetime64[ns](1), float64(3), int64(2), object(4)\n",
            "memory usage: 24.9+ MB\n"
          ]
        }
      ],
      "source": [
        "# converting the Year & Month to datetime\n",
        "df['Date'] = pd.to_datetime(df['Year'].astype(str) + '-' + df['Month'].astype(str))\n",
        "\n",
        "df.info()"
      ]
    },
    {
      "cell_type": "code",
      "execution_count": 10,
      "metadata": {
        "id": "Xn3nwubGoSKk"
      },
      "outputs": [],
      "source": [
        "# Convert numeric columns to float\n",
        "numeric_columns = ['Retail Sales', 'Retail Transfers', 'Warehouse Sales']\n",
        "\n",
        "df[numeric_columns] = df[numeric_columns].apply(pd.to_numeric, errors='coerce')\n",
        "#df.info()\n"
      ]
    },
    {
      "cell_type": "code",
      "execution_count": 11,
      "metadata": {
        "id": "0_wNXnLup-Ib"
      },
      "outputs": [],
      "source": [
        "# extract month name from the date column that I created earlier\n",
        "df['Month Name'] = df['Date'].dt.month_name()"
      ]
    },
    {
      "cell_type": "markdown",
      "metadata": {
        "id": "lw_dOLPAfnes"
      },
      "source": [
        "# Exploratory Data Analysis (EDA):"
      ]
    },
    {
      "cell_type": "markdown",
      "metadata": {
        "id": "_WjZ5CzBfusK"
      },
      "source": [
        "## Time Series Trend"
      ]
    },
    {
      "cell_type": "code",
      "execution_count": 12,
      "metadata": {
        "colab": {
          "base_uri": "https://localhost:8080/",
          "height": 112
        },
        "id": "9UsHKPmwsNEU",
        "outputId": "e0f0bf66-2a1b-4037-efb1-eb49d09eabb9"
      },
      "outputs": [
        {
          "data": {
            "application/vnd.microsoft.datawrangler.viewer.v0+json": {
              "columns": [
                {
                  "name": "index",
                  "rawType": "int64",
                  "type": "integer"
                },
                {
                  "name": "Month Name",
                  "rawType": "category",
                  "type": "unknown"
                },
                {
                  "name": "Warehouse Sales",
                  "rawType": "float64",
                  "type": "float"
                },
                {
                  "name": "Retail Sales",
                  "rawType": "float64",
                  "type": "float"
                }
              ],
              "conversionMethod": "pd.DataFrame",
              "ref": "67403d12-b7d9-4d63-875d-27d63fcf21cd",
              "rows": [
                [
                  "0",
                  "April",
                  "325981.52",
                  "110407.22"
                ],
                [
                  "1",
                  "August",
                  "797203.68",
                  "234754.87"
                ]
              ],
              "shape": {
                "columns": 3,
                "rows": 2
              }
            },
            "text/html": [
              "<div>\n",
              "<style scoped>\n",
              "    .dataframe tbody tr th:only-of-type {\n",
              "        vertical-align: middle;\n",
              "    }\n",
              "\n",
              "    .dataframe tbody tr th {\n",
              "        vertical-align: top;\n",
              "    }\n",
              "\n",
              "    .dataframe thead th {\n",
              "        text-align: right;\n",
              "    }\n",
              "</style>\n",
              "<table border=\"1\" class=\"dataframe\">\n",
              "  <thead>\n",
              "    <tr style=\"text-align: right;\">\n",
              "      <th></th>\n",
              "      <th>Month Name</th>\n",
              "      <th>Warehouse Sales</th>\n",
              "      <th>Retail Sales</th>\n",
              "    </tr>\n",
              "  </thead>\n",
              "  <tbody>\n",
              "    <tr>\n",
              "      <th>0</th>\n",
              "      <td>April</td>\n",
              "      <td>325981.52</td>\n",
              "      <td>110407.22</td>\n",
              "    </tr>\n",
              "    <tr>\n",
              "      <th>1</th>\n",
              "      <td>August</td>\n",
              "      <td>797203.68</td>\n",
              "      <td>234754.87</td>\n",
              "    </tr>\n",
              "  </tbody>\n",
              "</table>\n",
              "</div>"
            ],
            "text/plain": [
              "  Month Name  Warehouse Sales  Retail Sales\n",
              "0      April        325981.52     110407.22\n",
              "1     August        797203.68     234754.87"
            ]
          },
          "execution_count": 12,
          "metadata": {},
          "output_type": "execute_result"
        }
      ],
      "source": [
        "monthly_sales = df.groupby('Month Name')[['Warehouse Sales', 'Retail Sales']].sum().reset_index().round(2)\n",
        "\n",
        "month_order = [\n",
        "    \"January\", \"February\", \"March\", \"April\", \"May\", \"June\",\n",
        "    \"July\", \"August\", \"September\", \"October\", \"November\", \"December\"\n",
        "]\n",
        "\n",
        "# order by month name\n",
        "monthly_sales['Month Name'] = pd.Categorical(monthly_sales['Month Name'], categories=month_order, ordered=True)\n",
        "monthly_sales.head(2)"
      ]
    },
    {
      "cell_type": "code",
      "execution_count": 13,
      "metadata": {
        "colab": {
          "base_uri": "https://localhost:8080/",
          "height": 112
        },
        "id": "4JvZtgcn7sII",
        "outputId": "2d88b3e3-e28c-4427-a4fc-94d2ecc62c93"
      },
      "outputs": [
        {
          "data": {
            "application/vnd.microsoft.datawrangler.viewer.v0+json": {
              "columns": [
                {
                  "name": "index",
                  "rawType": "int64",
                  "type": "integer"
                },
                {
                  "name": "Month Name",
                  "rawType": "category",
                  "type": "unknown"
                },
                {
                  "name": "Sales Type",
                  "rawType": "object",
                  "type": "string"
                },
                {
                  "name": "Sales",
                  "rawType": "float64",
                  "type": "float"
                }
              ],
              "conversionMethod": "pd.DataFrame",
              "ref": "97a1c991-d6d1-4793-9087-d99cd74a0fa7",
              "rows": [
                [
                  "0",
                  "April",
                  "Warehouse Sales",
                  "325981.52"
                ],
                [
                  "1",
                  "August",
                  "Warehouse Sales",
                  "797203.68"
                ]
              ],
              "shape": {
                "columns": 3,
                "rows": 2
              }
            },
            "text/html": [
              "<div>\n",
              "<style scoped>\n",
              "    .dataframe tbody tr th:only-of-type {\n",
              "        vertical-align: middle;\n",
              "    }\n",
              "\n",
              "    .dataframe tbody tr th {\n",
              "        vertical-align: top;\n",
              "    }\n",
              "\n",
              "    .dataframe thead th {\n",
              "        text-align: right;\n",
              "    }\n",
              "</style>\n",
              "<table border=\"1\" class=\"dataframe\">\n",
              "  <thead>\n",
              "    <tr style=\"text-align: right;\">\n",
              "      <th></th>\n",
              "      <th>Month Name</th>\n",
              "      <th>Sales Type</th>\n",
              "      <th>Sales</th>\n",
              "    </tr>\n",
              "  </thead>\n",
              "  <tbody>\n",
              "    <tr>\n",
              "      <th>0</th>\n",
              "      <td>April</td>\n",
              "      <td>Warehouse Sales</td>\n",
              "      <td>325981.52</td>\n",
              "    </tr>\n",
              "    <tr>\n",
              "      <th>1</th>\n",
              "      <td>August</td>\n",
              "      <td>Warehouse Sales</td>\n",
              "      <td>797203.68</td>\n",
              "    </tr>\n",
              "  </tbody>\n",
              "</table>\n",
              "</div>"
            ],
            "text/plain": [
              "  Month Name       Sales Type      Sales\n",
              "0      April  Warehouse Sales  325981.52\n",
              "1     August  Warehouse Sales  797203.68"
            ]
          },
          "execution_count": 13,
          "metadata": {},
          "output_type": "execute_result"
        }
      ],
      "source": [
        "# melt the dataframe for plotting.\n",
        "monthly_sales_melted = monthly_sales.melt(id_vars='Month Name', var_name='Sales Type', value_name='Sales')\n",
        "monthly_sales_melted.head(2)"
      ]
    },
    {
      "cell_type": "code",
      "execution_count": 14,
      "metadata": {
        "colab": {
          "base_uri": "https://localhost:8080/",
          "height": 407
        },
        "id": "6c-niglUtm4J",
        "outputId": "a33593fa-f059-4154-e5c8-6925fb0f2a11"
      },
      "outputs": [
        {
          "data": {
            "image/png": "[encoded data removed]",
            "text/plain": [
              "<Figure size 800x400 with 1 Axes>"
            ]
          },
          "metadata": {},
          "output_type": "display_data"
        }
      ],
      "source": [
        "plt.figure(figsize=(8, 4))\n",
        "sns.lineplot(\n",
        "            data=monthly_sales_melted,\n",
        "             x='Month Name',\n",
        "             y='Sales',\n",
        "             hue='Sales Type',\n",
        "             palette='Set1',\n",
        "             marker='o',\n",
        "             markersize=5,\n",
        "\n",
        "\n",
        "\n",
        "        )\n",
        "\n",
        "def format_currency(x, pos):\n",
        "    if x >= 1e6:\n",
        "        return '${:1.1f}M'.format(x*1e-6)\n",
        "    else:\n",
        "        return '${:1.0f}K'.format(x*1e-3)\n",
        "\n",
        "# Apply the currency format to the y-axis\n",
        "plt.gca().yaxis.set_major_formatter(FuncFormatter(format_currency))\n",
        "\n",
        "plt.title('Monthly Retail Sales', pad=20)\n",
        "plt.xlabel('')\n",
        "plt.ylabel('Sales ($)')\n",
        "\n",
        "plt.xticks(rotation=45)\n",
        "plt.legend(ncols=2, loc='upper center', frameon=False, bbox_to_anchor=(0.5, 1.1), fontsize=9)\n",
        "\n",
        "sns.despine()\n",
        "plt.tight_layout()\n",
        "plt.show()\n"
      ]
    },
    {
      "cell_type": "markdown",
      "metadata": {
        "id": "gZUxMN_QoXI7"
      },
      "source": [
        "Here are some key insights from the Monthly Retail Sales chart:\n",
        "-   Warehouse Sales Are Consistently Higher:\n",
        "\n",
        "    -   Throughout the year, warehouse sales significantly outperform retail sales, often by more than double.\n",
        "\n",
        "-   Peak Sales Months:\n",
        "\n",
        "    -   July marks the highest month for warehouse sales (~$1.2M).\n",
        "\n",
        "    -   Retail sales also peak in July (~$350K), suggesting seasonal or promotional factors affecting both channels.\n",
        "\n",
        "-   Lowest Sales Periods:\n",
        "\n",
        "    -   April is the weakest month for both warehouse and retail sales, particularly low for retail (~$100K).\n",
        "\n",
        "-   Seasonal Trends:\n",
        "\n",
        "    -   Warehouse sales exhibit more volatility with large spikes (June–July, September).\n",
        "\n",
        "    -   Retail sales are relatively stable with moderate fluctuations.\n",
        "\n",
        "-----"
      ]
    },
    {
      "cell_type": "markdown",
      "metadata": {
        "id": "1_yZseYra41G"
      },
      "source": [
        "### Average Monthly Sales:\n"
      ]
    },
    {
      "cell_type": "code",
      "execution_count": 15,
      "metadata": {
        "colab": {
          "base_uri": "https://localhost:8080/",
          "height": 112
        },
        "id": "srwDTHFna41H",
        "outputId": "66b78702-8f90-4eb8-bf10-801a818f5f9e"
      },
      "outputs": [
        {
          "data": {
            "application/vnd.microsoft.datawrangler.viewer.v0+json": {
              "columns": [
                {
                  "name": "index",
                  "rawType": "int64",
                  "type": "integer"
                },
                {
                  "name": "Month Name",
                  "rawType": "category",
                  "type": "unknown"
                },
                {
                  "name": "Sales Type",
                  "rawType": "object",
                  "type": "string"
                },
                {
                  "name": "Sales",
                  "rawType": "float64",
                  "type": "float"
                }
              ],
              "conversionMethod": "pd.DataFrame",
              "ref": "097143e3-42dc-4004-8a06-bcf601b6c894",
              "rows": [
                [
                  "0",
                  "April",
                  "Warehouse Sales",
                  "26.56"
                ],
                [
                  "1",
                  "August",
                  "Warehouse Sales",
                  "31.91"
                ]
              ],
              "shape": {
                "columns": 3,
                "rows": 2
              }
            },
            "text/html": [
              "<div>\n",
              "<style scoped>\n",
              "    .dataframe tbody tr th:only-of-type {\n",
              "        vertical-align: middle;\n",
              "    }\n",
              "\n",
              "    .dataframe tbody tr th {\n",
              "        vertical-align: top;\n",
              "    }\n",
              "\n",
              "    .dataframe thead th {\n",
              "        text-align: right;\n",
              "    }\n",
              "</style>\n",
              "<table border=\"1\" class=\"dataframe\">\n",
              "  <thead>\n",
              "    <tr style=\"text-align: right;\">\n",
              "      <th></th>\n",
              "      <th>Month Name</th>\n",
              "      <th>Sales Type</th>\n",
              "      <th>Sales</th>\n",
              "    </tr>\n",
              "  </thead>\n",
              "  <tbody>\n",
              "    <tr>\n",
              "      <th>0</th>\n",
              "      <td>April</td>\n",
              "      <td>Warehouse Sales</td>\n",
              "      <td>26.56</td>\n",
              "    </tr>\n",
              "    <tr>\n",
              "      <th>1</th>\n",
              "      <td>August</td>\n",
              "      <td>Warehouse Sales</td>\n",
              "      <td>31.91</td>\n",
              "    </tr>\n",
              "  </tbody>\n",
              "</table>\n",
              "</div>"
            ],
            "text/plain": [
              "  Month Name       Sales Type  Sales\n",
              "0      April  Warehouse Sales  26.56\n",
              "1     August  Warehouse Sales  31.91"
            ]
          },
          "execution_count": 15,
          "metadata": {},
          "output_type": "execute_result"
        }
      ],
      "source": [
        "# Monthly seasonality pattern\n",
        "seasonality = df.groupby('Month Name')[['Warehouse Sales', 'Retail Sales']].mean().reset_index().round(2)\n",
        "seasonality['Month Name'] = pd.Categorical(seasonality['Month Name'], categories=month_order, ordered=True)\n",
        "seasonality_melted = seasonality.melt(id_vars='Month Name', var_name='Sales Type', value_name='Sales')\n",
        "\n",
        "seasonality_melted.head(2)"
      ]
    },
    {
      "cell_type": "code",
      "execution_count": 16,
      "metadata": {
        "colab": {
          "base_uri": "https://localhost:8080/",
          "height": 407
        },
        "id": "RSbP7arDa41I",
        "outputId": "f799769c-db49-4a65-ef38-dc43c66c6c67"
      },
      "outputs": [
        {
          "data": {
            "image/png": "[encoded data removed]",
            "text/plain": [
              "<Figure size 800x400 with 1 Axes>"
            ]
          },
          "metadata": {},
          "output_type": "display_data"
        }
      ],
      "source": [
        "plt.figure(figsize=(8,4))\n",
        "sns.lineplot(\n",
        "        data=seasonality_melted,\n",
        "    x='Month Name',\n",
        "    y='Sales',\n",
        "    hue='Sales Type',\n",
        "        palette='Set1',\n",
        "        marker='o',\n",
        "        markersize=5,\n",
        "\n",
        ")\n",
        "\n",
        "plt.title('Average Warehouse & Retail Sales by Month', pad=20)\n",
        "plt.xlabel('')\n",
        "plt.ylabel('Average Sales ($)')\n",
        "plt.xticks(rotation=45)\n",
        "\n",
        "plt.legend(ncols=2, loc='upper center', frameon=False, bbox_to_anchor=(0.5, 1.1), fontsize=8)\n",
        "sns.despine()\n",
        "plt.tight_layout()\n",
        "plt.show()"
      ]
    },
    {
      "cell_type": "markdown",
      "metadata": {
        "id": "cJ3RRpu4ccK4"
      },
      "source": [
        "\n",
        "\n",
        "### **Key Insights**\n",
        "\n",
        "1. **July Is the Peak for Both Channels**:\n",
        "\n",
        "   * **Warehouse Sales** peak in **July (\\~\\$34)**, followed closely by **May and June**.\n",
        "   * **Retail Sales** also show a smaller peak in **December (\\~\\$11)** and **March**.\n",
        "\n",
        "2. **Warehouse Sales Show a Strong Mid-Year Surge**:\n",
        "\n",
        "   * From **April to July**, there's a noticeable rise in average warehouse sales, suggesting increased B2B demand or bulk purchasing during this period.\n",
        "\n",
        "3. **Retail Sales Are Steadier But Lower**:\n",
        "\n",
        "   * Retail sales fluctuate mildly between **\\$8 and \\$11**, showing more stability but consistently lower values than warehouse sales.\n",
        "\n",
        "-----\n",
        "\n"
      ]
    }
  ],
  "metadata": {
    "colab": {
      "collapsed_sections": [
        "_WjZ5CzBfusK",
        "G5JtXiQP0mnE",
        "ffuFYgmkfgdR",
        "sIvBIAKNuGm1",
        "U6vFa4sr1X0J",
        "t7OOr4cZiJV8",
        "ty_feXoa2bJ5",
        "SZp-XaZM2uU8",
        "ucnI0zIckaZ4"
      ],
      "provenance": []
    },
    "kernelspec": {
      "display_name": "data_projects",
      "language": "python",
      "name": "python3"
    },
    "language_info": {
      "codemirror_mode": {
        "name": "ipython",
        "version": 3
      },
      "file_extension": ".py",
      "mimetype": "text/x-python",
      "name": "python",
      "nbconvert_exporter": "python",
      "pygments_lexer": "ipython3",
      "version": "3.12.3"
    }
  },
  "nbformat": 4,
  "nbformat_minor": 0
}
