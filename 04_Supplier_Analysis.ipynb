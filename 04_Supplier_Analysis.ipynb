{
  "cells": [
    {
      "cell_type": "code",
      "execution_count": 2,
      "metadata": {
        "colab": {
          "base_uri": "https://localhost:8080/",
          "height": 112
        },
        "id": "ycGplJUhNCQU",
        "outputId": "71d157c3-cf23-421e-bcea-e7d4ee7bfb2b"
      },
      "outputs": [
        {
          "data": {
            "application/vnd.microsoft.datawrangler.viewer.v0+json": {
              "columns": [
                {
                  "name": "index",
                  "rawType": "int64",
                  "type": "integer"
                },
                {
                  "name": "YEAR",
                  "rawType": "int64",
                  "type": "integer"
                },
                {
                  "name": "MONTH",
                  "rawType": "int64",
                  "type": "integer"
                },
                {
                  "name": "SUPPLIER",
                  "rawType": "object",
                  "type": "string"
                },
                {
                  "name": "ITEM CODE",
                  "rawType": "object",
                  "type": "string"
                },
                {
                  "name": "ITEM DESCRIPTION",
                  "rawType": "object",
                  "type": "string"
                },
                {
                  "name": "ITEM TYPE",
                  "rawType": "object",
                  "type": "string"
                },
                {
                  "name": "RETAIL SALES",
                  "rawType": "float64",
                  "type": "float"
                },
                {
                  "name": "RETAIL TRANSFERS",
                  "rawType": "float64",
                  "type": "float"
                },
                {
                  "name": "WAREHOUSE SALES",
                  "rawType": "float64",
                  "type": "float"
                }
              ],
              "conversionMethod": "pd.DataFrame",
              "ref": "72b464ba-9d26-413a-8935-743ae6c2a08d",
              "rows": [
                [
                  "0",
                  "2020",
                  "1",
                  "REPUBLIC NATIONAL DISTRIBUTING CO",
                  "100009",
                  "BOOTLEG RED - 750ML",
                  "WINE",
                  "0.0",
                  "0.0",
                  "2.0"
                ],
                [
                  "1",
                  "2020",
                  "1",
                  "PWSWN INC",
                  "100024",
                  "MOMENT DE PLAISIR - 750ML",
                  "WINE",
                  "0.0",
                  "1.0",
                  "4.0"
                ]
              ],
              "shape": {
                "columns": 9,
                "rows": 2
              }
            },
            "text/html": [
              "<div>\n",
              "<style scoped>\n",
              "    .dataframe tbody tr th:only-of-type {\n",
              "        vertical-align: middle;\n",
              "    }\n",
              "\n",
              "    .dataframe tbody tr th {\n",
              "        vertical-align: top;\n",
              "    }\n",
              "\n",
              "    .dataframe thead th {\n",
              "        text-align: right;\n",
              "    }\n",
              "</style>\n",
              "<table border=\"1\" class=\"dataframe\">\n",
              "  <thead>\n",
              "    <tr style=\"text-align: right;\">\n",
              "      <th></th>\n",
              "      <th>YEAR</th>\n",
              "      <th>MONTH</th>\n",
              "      <th>SUPPLIER</th>\n",
              "      <th>ITEM CODE</th>\n",
              "      <th>ITEM DESCRIPTION</th>\n",
              "      <th>ITEM TYPE</th>\n",
              "      <th>RETAIL SALES</th>\n",
              "      <th>RETAIL TRANSFERS</th>\n",
              "      <th>WAREHOUSE SALES</th>\n",
              "    </tr>\n",
              "  </thead>\n",
              "  <tbody>\n",
              "    <tr>\n",
              "      <th>0</th>\n",
              "      <td>2020</td>\n",
              "      <td>1</td>\n",
              "      <td>REPUBLIC NATIONAL DISTRIBUTING CO</td>\n",
              "      <td>100009</td>\n",
              "      <td>BOOTLEG RED - 750ML</td>\n",
              "      <td>WINE</td>\n",
              "      <td>0.0</td>\n",
              "      <td>0.0</td>\n",
              "      <td>2.0</td>\n",
              "    </tr>\n",
              "    <tr>\n",
              "      <th>1</th>\n",
              "      <td>2020</td>\n",
              "      <td>1</td>\n",
              "      <td>PWSWN INC</td>\n",
              "      <td>100024</td>\n",
              "      <td>MOMENT DE PLAISIR - 750ML</td>\n",
              "      <td>WINE</td>\n",
              "      <td>0.0</td>\n",
              "      <td>1.0</td>\n",
              "      <td>4.0</td>\n",
              "    </tr>\n",
              "  </tbody>\n",
              "</table>\n",
              "</div>"
            ],
            "text/plain": [
              "   YEAR  MONTH                           SUPPLIER ITEM CODE  \\\n",
              "0  2020      1  REPUBLIC NATIONAL DISTRIBUTING CO    100009   \n",
              "1  2020      1                          PWSWN INC    100024   \n",
              "\n",
              "            ITEM DESCRIPTION ITEM TYPE  RETAIL SALES  RETAIL TRANSFERS  \\\n",
              "0        BOOTLEG RED - 750ML      WINE           0.0               0.0   \n",
              "1  MOMENT DE PLAISIR - 750ML      WINE           0.0               1.0   \n",
              "\n",
              "   WAREHOUSE SALES  \n",
              "0              2.0  \n",
              "1              4.0  "
            ]
          },
          "execution_count": 2,
          "metadata": {},
          "output_type": "execute_result"
        }
      ],
      "source": [
        "import pandas as pd\n",
        "import numpy as np\n",
        "import matplotlib.pyplot as plt\n",
        "import seaborn as sns\n",
        "from matplotlib.ticker import FuncFormatter\n",
        "\n",
        "import warnings\n",
        "warnings.filterwarnings('ignore')\n",
        "\n",
        "df = pd.read_csv(r'C:\\Users\\Mohamed Fawzi\\Desktop\\Warehouse Sales\\Warehouse_and_Retail_Sales.csv')\n",
        "\n",
        "df.head(2)"
      ]
    },
    {
      "cell_type": "markdown",
      "metadata": {
        "id": "3ksy1ch9kTZI"
      },
      "source": [
        "# Cleaning & Preparing The Data"
      ]
    },
    {
      "cell_type": "code",
      "execution_count": 3,
      "metadata": {
        "id": "VaCegRXcY8XU"
      },
      "outputs": [],
      "source": [
        "# I will convert all columns name to be title case - I prefer it like that :)\n",
        "df.columns = df.columns.str.title()"
      ]
    },
    {
      "cell_type": "code",
      "execution_count": 4,
      "metadata": {
        "id": "q_EcpE25faOK"
      },
      "outputs": [],
      "source": [
        "# drop null values\n",
        "df.dropna(inplace=True)"
      ]
    },
    {
      "cell_type": "code",
      "execution_count": 5,
      "metadata": {
        "colab": {
          "base_uri": "https://localhost:8080/",
          "height": 366
        },
        "id": "8XXfHOv3fhed",
        "outputId": "79b8b8d4-124b-4e90-ac2c-59e440867ce3"
      },
      "outputs": [
        {
          "data": {
            "text/plain": [
              "Year                0\n",
              "Month               0\n",
              "Supplier            0\n",
              "Item Code           0\n",
              "Item Description    0\n",
              "Item Type           0\n",
              "Retail Sales        0\n",
              "Retail Transfers    0\n",
              "Warehouse Sales     0\n",
              "dtype: int64"
            ]
          },
          "execution_count": 5,
          "metadata": {},
          "output_type": "execute_result"
        }
      ],
      "source": [
        "df.isna().sum()"
      ]
    },
    {
      "cell_type": "code",
      "execution_count": 6,
      "metadata": {
        "id": "CPhYpD1zo3AU"
      },
      "outputs": [],
      "source": [
        "# exclude 'STR_SUPPLIES', 'KEGS', 'REF', 'DUNNAGE', because most of the values are zeros\n",
        "df = df[df['Item Type'].isin(['WINE', 'BEER', 'LIQUOR','NON-ALCOHOL'])]"
      ]
    },
    {
      "cell_type": "code",
      "execution_count": 7,
      "metadata": {
        "colab": {
          "base_uri": "https://localhost:8080/"
        },
        "id": "8FJWkZqBe5Cd",
        "outputId": "ea47f749-fdb4-4bc8-c506-8e656fa85236"
      },
      "outputs": [
        {
          "data": {
            "text/plain": [
              "array(['WINE', 'BEER', 'LIQUOR', 'NON-ALCOHOL'], dtype=object)"
            ]
          },
          "execution_count": 7,
          "metadata": {},
          "output_type": "execute_result"
        }
      ],
      "source": [
        "df['Item Type'].unique()\n"
      ]
    },
    {
      "cell_type": "code",
      "execution_count": 8,
      "metadata": {
        "id": "sTVbfddhqUDV"
      },
      "outputs": [],
      "source": [
        "# Calculate mean values for only saleable items\n",
        "saleable_items = ['WINE', 'BEER', 'LIQUOR', 'NON-ALCOHOL']  # Define saleable items\n",
        "mean_values = df[df['Item Type'].isin(saleable_items)].groupby('Item Type')[['Warehouse Sales', 'Retail Transfers', 'Retail Sales']].mean()\n",
        "\n",
        "# Define a function to replace zeros\n",
        "def replace_zeros_with_mean(row, mean_values):\n",
        "    item_type = row['Item Type']\n",
        "    for col in ['Warehouse Sales', 'Retail Transfers', 'Retail Sales']:\n",
        "        if row[col] == 0.0 and item_type in mean_values.index:\n",
        "            row[col] = mean_values.loc[item_type, col]  # Replace zero with mean for this item type\n",
        "    return row\n",
        "\n",
        "# Apply the function to rows where the item type is saleable\n",
        "df = df.apply(replace_zeros_with_mean, mean_values=mean_values, axis=1)"
      ]
    },
    {
      "cell_type": "code",
      "execution_count": 9,
      "metadata": {
        "colab": {
          "base_uri": "https://localhost:8080/",
          "height": 81
        },
        "id": "Pz-X6BKAdlwv",
        "outputId": "44b0c161-4f6e-4144-82b9-a40c6987fbe3"
      },
      "outputs": [
        {
          "data": {
            "application/vnd.microsoft.datawrangler.viewer.v0+json": {
              "columns": [
                {
                  "name": "index",
                  "rawType": "int64",
                  "type": "integer"
                },
                {
                  "name": "Year",
                  "rawType": "int64",
                  "type": "integer"
                },
                {
                  "name": "Month",
                  "rawType": "int64",
                  "type": "integer"
                },
                {
                  "name": "Supplier",
                  "rawType": "object",
                  "type": "string"
                },
                {
                  "name": "Item Code",
                  "rawType": "object",
                  "type": "string"
                },
                {
                  "name": "Item Description",
                  "rawType": "object",
                  "type": "string"
                },
                {
                  "name": "Item Type",
                  "rawType": "object",
                  "type": "string"
                },
                {
                  "name": "Retail Sales",
                  "rawType": "float64",
                  "type": "float"
                },
                {
                  "name": "Retail Transfers",
                  "rawType": "float64",
                  "type": "float"
                },
                {
                  "name": "Warehouse Sales",
                  "rawType": "float64",
                  "type": "float"
                }
              ],
              "conversionMethod": "pd.DataFrame",
              "ref": "6e4b3c6d-fbdd-45f5-92f7-19536fb713c3",
              "rows": [
                [
                  "250631",
                  "2019",
                  "8",
                  "BARON FRANCOIS LTD",
                  "334870",
                  "PARK COGNAC XO - 750ML",
                  "LIQUOR",
                  "0.34",
                  "12.24365598521029",
                  "1.462120936681559"
                ]
              ],
              "shape": {
                "columns": 9,
                "rows": 1
              }
            },
            "text/html": [
              "<div>\n",
              "<style scoped>\n",
              "    .dataframe tbody tr th:only-of-type {\n",
              "        vertical-align: middle;\n",
              "    }\n",
              "\n",
              "    .dataframe tbody tr th {\n",
              "        vertical-align: top;\n",
              "    }\n",
              "\n",
              "    .dataframe thead th {\n",
              "        text-align: right;\n",
              "    }\n",
              "</style>\n",
              "<table border=\"1\" class=\"dataframe\">\n",
              "  <thead>\n",
              "    <tr style=\"text-align: right;\">\n",
              "      <th></th>\n",
              "      <th>Year</th>\n",
              "      <th>Month</th>\n",
              "      <th>Supplier</th>\n",
              "      <th>Item Code</th>\n",
              "      <th>Item Description</th>\n",
              "      <th>Item Type</th>\n",
              "      <th>Retail Sales</th>\n",
              "      <th>Retail Transfers</th>\n",
              "      <th>Warehouse Sales</th>\n",
              "    </tr>\n",
              "  </thead>\n",
              "  <tbody>\n",
              "    <tr>\n",
              "      <th>250631</th>\n",
              "      <td>2019</td>\n",
              "      <td>8</td>\n",
              "      <td>BARON FRANCOIS LTD</td>\n",
              "      <td>334870</td>\n",
              "      <td>PARK COGNAC XO - 750ML</td>\n",
              "      <td>LIQUOR</td>\n",
              "      <td>0.34</td>\n",
              "      <td>12.243656</td>\n",
              "      <td>1.462121</td>\n",
              "    </tr>\n",
              "  </tbody>\n",
              "</table>\n",
              "</div>"
            ],
            "text/plain": [
              "        Year  Month            Supplier Item Code        Item Description  \\\n",
              "250631  2019      8  BARON FRANCOIS LTD    334870  PARK COGNAC XO - 750ML   \n",
              "\n",
              "       Item Type  Retail Sales  Retail Transfers  Warehouse Sales  \n",
              "250631    LIQUOR          0.34         12.243656         1.462121  "
            ]
          },
          "execution_count": 9,
          "metadata": {},
          "output_type": "execute_result"
        }
      ],
      "source": [
        "df.sample()"
      ]
    },
    {
      "cell_type": "code",
      "execution_count": 10,
      "metadata": {
        "colab": {
          "base_uri": "https://localhost:8080/"
        },
        "id": "qSfNo5P_lSXC",
        "outputId": "686062ae-1e02-4d94-ff4b-efc13ba36e79"
      },
      "outputs": [
        {
          "name": "stdout",
          "output_type": "stream",
          "text": [
            "<class 'pandas.core.frame.DataFrame'>\n",
            "Index: 296862 entries, 0 to 307644\n",
            "Data columns (total 10 columns):\n",
            " #   Column            Non-Null Count   Dtype         \n",
            "---  ------            --------------   -----         \n",
            " 0   Year              296862 non-null  int64         \n",
            " 1   Month             296862 non-null  int64         \n",
            " 2   Supplier          296862 non-null  object        \n",
            " 3   Item Code         296862 non-null  object        \n",
            " 4   Item Description  296862 non-null  object        \n",
            " 5   Item Type         296862 non-null  object        \n",
            " 6   Retail Sales      296862 non-null  float64       \n",
            " 7   Retail Transfers  296862 non-null  float64       \n",
            " 8   Warehouse Sales   296862 non-null  float64       \n",
            " 9   Date              296862 non-null  datetime64[ns]\n",
            "dtypes: datetime64[ns](1), float64(3), int64(2), object(4)\n",
            "memory usage: 24.9+ MB\n"
          ]
        }
      ],
      "source": [
        "# converting the Year & Month to datetime\n",
        "df['Date'] = pd.to_datetime(df['Year'].astype(str) + '-' + df['Month'].astype(str))\n",
        "\n",
        "df.info()"
      ]
    },
    {
      "cell_type": "code",
      "execution_count": 11,
      "metadata": {
        "id": "Xn3nwubGoSKk"
      },
      "outputs": [],
      "source": [
        "# Convert numeric columns to float\n",
        "numeric_columns = ['Retail Sales', 'Retail Transfers', 'Warehouse Sales']\n",
        "\n",
        "df[numeric_columns] = df[numeric_columns].apply(pd.to_numeric, errors='coerce')\n",
        "#df.info()\n"
      ]
    },
    {
      "cell_type": "code",
      "execution_count": 12,
      "metadata": {
        "id": "0_wNXnLup-Ib"
      },
      "outputs": [],
      "source": [
        "# extract month name from the date column that I created earlier\n",
        "df['Month Name'] = df['Date'].dt.month_name()"
      ]
    },
    {
      "cell_type": "markdown",
      "metadata": {
        "id": "lw_dOLPAfnes"
      },
      "source": [
        "# Exploratory Data Analysis (EDA):"
      ]
    },
    {
      "cell_type": "markdown",
      "metadata": {
        "id": "t7OOr4cZiJV8"
      },
      "source": [
        "##  Supplier Performance Analysis"
      ]
    },
    {
      "cell_type": "markdown",
      "metadata": {
        "id": "ty_feXoa2bJ5"
      },
      "source": [
        "### Top 5 Supliers"
      ]
    },
    {
      "cell_type": "markdown",
      "metadata": {
        "id": "SV4Y_z0N5mHI"
      },
      "source": [
        "Now we'll analyze the top 5 supplier by Warehouse and Retail Sales"
      ]
    },
    {
      "cell_type": "code",
      "execution_count": 13,
      "metadata": {
        "colab": {
          "base_uri": "https://localhost:8080/",
          "height": 206
        },
        "id": "G71_CChpiODu",
        "outputId": "b000812e-6f84-44f8-d13d-0f2865b658b3"
      },
      "outputs": [
        {
          "data": {
            "application/vnd.microsoft.datawrangler.viewer.v0+json": {
              "columns": [
                {
                  "name": "index",
                  "rawType": "int64",
                  "type": "integer"
                },
                {
                  "name": "Supplier",
                  "rawType": "object",
                  "type": "string"
                },
                {
                  "name": "Warehouse Sales",
                  "rawType": "float64",
                  "type": "float"
                },
                {
                  "name": "Retail Sales",
                  "rawType": "float64",
                  "type": "float"
                }
              ],
              "conversionMethod": "pd.DataFrame",
              "ref": "d2d5f9eb-b5ce-44b7-9843-05c43a87b54f",
              "rows": [
                [
                  "108",
                  "E & J GALLO WINERY",
                  "206791.06",
                  "168177.84"
                ],
                [
                  "90",
                  "DIAGEO NORTH AMERICA INC",
                  "175845.86",
                  "149495.8"
                ],
                [
                  "15",
                  "ANHEUSER BUSCH INC",
                  "1394450.59",
                  "134804.49"
                ],
                [
                  "76",
                  "CONSTELLATION BRANDS",
                  "124496.31",
                  "132605.41"
                ],
                [
                  "188",
                  "LEGENDS LTD",
                  "187396.44",
                  "116584.09"
                ]
              ],
              "shape": {
                "columns": 3,
                "rows": 5
              }
            },
            "text/html": [
              "<div>\n",
              "<style scoped>\n",
              "    .dataframe tbody tr th:only-of-type {\n",
              "        vertical-align: middle;\n",
              "    }\n",
              "\n",
              "    .dataframe tbody tr th {\n",
              "        vertical-align: top;\n",
              "    }\n",
              "\n",
              "    .dataframe thead th {\n",
              "        text-align: right;\n",
              "    }\n",
              "</style>\n",
              "<table border=\"1\" class=\"dataframe\">\n",
              "  <thead>\n",
              "    <tr style=\"text-align: right;\">\n",
              "      <th></th>\n",
              "      <th>Supplier</th>\n",
              "      <th>Warehouse Sales</th>\n",
              "      <th>Retail Sales</th>\n",
              "    </tr>\n",
              "  </thead>\n",
              "  <tbody>\n",
              "    <tr>\n",
              "      <th>108</th>\n",
              "      <td>E &amp; J GALLO WINERY</td>\n",
              "      <td>206791.06</td>\n",
              "      <td>168177.84</td>\n",
              "    </tr>\n",
              "    <tr>\n",
              "      <th>90</th>\n",
              "      <td>DIAGEO NORTH AMERICA INC</td>\n",
              "      <td>175845.86</td>\n",
              "      <td>149495.80</td>\n",
              "    </tr>\n",
              "    <tr>\n",
              "      <th>15</th>\n",
              "      <td>ANHEUSER BUSCH INC</td>\n",
              "      <td>1394450.59</td>\n",
              "      <td>134804.49</td>\n",
              "    </tr>\n",
              "    <tr>\n",
              "      <th>76</th>\n",
              "      <td>CONSTELLATION BRANDS</td>\n",
              "      <td>124496.31</td>\n",
              "      <td>132605.41</td>\n",
              "    </tr>\n",
              "    <tr>\n",
              "      <th>188</th>\n",
              "      <td>LEGENDS LTD</td>\n",
              "      <td>187396.44</td>\n",
              "      <td>116584.09</td>\n",
              "    </tr>\n",
              "  </tbody>\n",
              "</table>\n",
              "</div>"
            ],
            "text/plain": [
              "                     Supplier  Warehouse Sales  Retail Sales\n",
              "108        E & J GALLO WINERY        206791.06     168177.84\n",
              "90   DIAGEO NORTH AMERICA INC        175845.86     149495.80\n",
              "15         ANHEUSER BUSCH INC       1394450.59     134804.49\n",
              "76       CONSTELLATION BRANDS        124496.31     132605.41\n",
              "188               LEGENDS LTD        187396.44     116584.09"
            ]
          },
          "execution_count": 13,
          "metadata": {},
          "output_type": "execute_result"
        }
      ],
      "source": [
        "top_suppliers = df.groupby('Supplier')[['Warehouse Sales', 'Retail Sales']].sum().reset_index().round(2)\n",
        "\n",
        "top_suppliers_whs = top_suppliers.sort_values(by='Warehouse Sales', ascending=False).head()\n",
        "\n",
        "top_suppliers_rs = top_suppliers.sort_values(by='Retail Sales', ascending=False).head()\n",
        "\n",
        "top_suppliers_rs"
      ]
    },
    {
      "cell_type": "code",
      "execution_count": 15,
      "metadata": {
        "colab": {
          "base_uri": "https://localhost:8080/",
          "height": 407
        },
        "id": "WBU1FyTZQ2Ar",
        "outputId": "36bf1b39-c7d8-4f4e-9b65-e48238131f5c"
      },
      "outputs": [
        {
          "data": {
            "image/png": "[encoded data removed]",
            "text/plain": [
              "<Figure size 800x400 with 2 Axes>"
            ]
          },
          "metadata": {},
          "output_type": "display_data"
        }
      ],
      "source": [
        "# plotting top_suppliers as subplot\n",
        "fig, axes = plt.subplots(2, 1, figsize=(8, 4))\n",
        "\n",
        "sns.barplot(\n",
        "    data=top_suppliers_whs,\n",
        "    x='Warehouse Sales',\n",
        "    y='Supplier',\n",
        "    palette='viridis',\n",
        "    ax=axes[0]\n",
        ")\n",
        "\n",
        "sns.barplot(\n",
        "    data=top_suppliers_rs,\n",
        "    x='Retail Sales',\n",
        "    y='Supplier',\n",
        "    palette='viridis',\n",
        "    ax=axes[1]\n",
        ")\n",
        "\n",
        "def format_currency(x, pos):\n",
        "    if x >= 1e6:\n",
        "        return '${:1.1f}M'.format(x*1e-6)\n",
        "    else:\n",
        "        return '${:1.0f}K'.format(x*1e-3)\n",
        "\n",
        "# currency format\n",
        "axes[0].xaxis.set_major_formatter(FuncFormatter(format_currency))\n",
        "axes[1].xaxis.set_major_formatter(FuncFormatter(format_currency))\n",
        "\n",
        "sns.despine()\n",
        "plt.tight_layout()\n",
        "plt.show()"
      ]
    },
    {
      "cell_type": "markdown",
      "metadata": {
        "id": "MnXgzGdffqdt"
      },
      "source": [
        " **Key Insights:**\n",
        "\n",
        "#### **Warehouse Sales**\n",
        "1. **CROWN IMPORTS Dominates**:  \n",
        "   - CROWN IMPORTS leads with the highest warehouse sales, reaching approximately **$1.4 million**.  \n",
        "   - This indicates strong wholesale demand for their products.\n",
        "\n",
        "2. **ANHEUSER-BUSCH INC and MILLER BREWING COMPANY Follow Closely**:  \n",
        "   - Both have significant warehouse sales, around **$1 million**, suggesting they are major suppliers in the wholesale channel.\n",
        "\n",
        "3. **HEINEKEN USA Shows Moderate Performance**:  \n",
        "   - HEINEKEN USA has warehouse sales of about **$0.7 million**, indicating a solid but not dominant position.\n",
        "\n",
        "4. **E & J GALLO WINERY Lags Behind**:  \n",
        "   - E & J GALLO WINERY has the lowest warehouse sales among the listed suppliers, at around **$0.2 million**.  \n",
        "   - This could indicate limited wholesale distribution or focus on retail channels.\n",
        "\n",
        "---\n",
        "\n",
        "#### **Retail Sales**\n",
        "1. **E & J GALLO WINERY Leads Retail Sales**:  \n",
        "   - E & J GALLO WINERY tops the chart with retail sales of approximately **$1.4 million**, showcasing strong direct-to-consumer appeal.\n",
        "\n",
        "2. **CONSTELLATION BRANDS and ANHEUSER-BUSCH INC Are Close Competitors**:  \n",
        "   - CONSTELLATION BRANDS and ANHEUSER-BUSCH INC both have robust retail sales, around **$1.2 million** and **$1.1 million**, respectively.  \n",
        "   - This suggests these suppliers are well-positioned in both wholesale and retail markets.\n",
        "\n",
        "3. **DIAGEO NORTH AMERICA INC and MILLER BREWING COMPANY Show Moderate Retail Presence**:  \n",
        "   - DIAGEO NORTH AMERICA INC has retail sales of about *$1 million*, while MILLER BREWING COMPANY Com is slightly lower, around $0.8 million.  \n",
        "   - These suppliers have a balanced presence across both channels.\n",
        "\n",
        "4. **No Supplier Dominates Both Channels Simultaneously**:  \n",
        "   - CROWN IMPORTS excels in warehouse sales but does not appear in the top retail performers.  \n",
        "   - E & J GALLO WINERY dominates retail sales but lags in warehouse sales.  \n",
        "   - This highlights different supplier strategies for wholesale vs. retail.\n",
        "\n",
        "\n",
        "\n",
        "### **Summary of Observations:**\n",
        "- **CROWN IMPORTS** excels in wholesale sales, making it a key partner for bulk orders.\n",
        "- **E & J GALLO WINERY** dominates retail sales, indicating strong consumer appeal.\n",
        "- **ANHEUSER-BUSCH INC and CONSTELLATION BRANDS** balance both channels effectively.\n",
        "- **HEINEKEN USA and MILLER BREWING COMPANY** show moderate performance across channels.\n",
        "\n",
        "---"
      ]
    },
    {
      "cell_type": "markdown",
      "metadata": {
        "id": "SZp-XaZM2uU8"
      },
      "source": [
        "### Transfer Ratio by Supplier"
      ]
    },
    {
      "cell_type": "markdown",
      "metadata": {
        "id": "WJ6ytQCO_Ydx"
      },
      "source": [
        "Now, let's calculate the avergae transfer effciency for top 10 suppliers"
      ]
    },
    {
      "cell_type": "code",
      "execution_count": 16,
      "metadata": {
        "id": "llp7MtMH2uU8"
      },
      "outputs": [],
      "source": [
        "df['Transfer Ratio'] = df['Retail Transfers'] / df['Warehouse Sales'].replace(0, np.nan)"
      ]
    },
    {
      "cell_type": "code",
      "execution_count": 17,
      "metadata": {
        "colab": {
          "base_uri": "https://localhost:8080/",
          "height": 363
        },
        "id": "5P0hmggw2uU8",
        "outputId": "4c1592c5-6f9a-40be-b343-0826e8b06bf8"
      },
      "outputs": [
        {
          "data": {
            "application/vnd.microsoft.datawrangler.viewer.v0+json": {
              "columns": [
                {
                  "name": "index",
                  "rawType": "int64",
                  "type": "integer"
                },
                {
                  "name": "Supplier",
                  "rawType": "object",
                  "type": "string"
                },
                {
                  "name": "Transfer Ratio",
                  "rawType": "float64",
                  "type": "float"
                }
              ],
              "conversionMethod": "pd.DataFrame",
              "ref": "776368b1-4ede-4d49-b20e-2f13579e39ba",
              "rows": [
                [
                  "0",
                  "CHARLES JACQUIN ET CIE INC",
                  "45.9"
                ],
                [
                  "1",
                  "FIFTH GENERATION INC",
                  "28.7"
                ],
                [
                  "2",
                  "CALVERT BREWING COMPANY",
                  "13.36"
                ],
                [
                  "3",
                  "HEAVEN HILL DISTILLERIES INC",
                  "12.7"
                ],
                [
                  "4",
                  "MONTEBELLO BRANDS INC",
                  "12.66"
                ],
                [
                  "5",
                  "PROXIMO SPIRITS INC",
                  "11.65"
                ],
                [
                  "6",
                  "WILLIAM GRANT AND SONS INC",
                  "11.44"
                ],
                [
                  "7",
                  "JIM BEAM BRANDS CO",
                  "11.16"
                ],
                [
                  "8",
                  "BACARDI USA INC",
                  "11.15"
                ],
                [
                  "9",
                  "RUSSIAN STANDARD VODKA (USA) INC",
                  "10.86"
                ]
              ],
              "shape": {
                "columns": 2,
                "rows": 10
              }
            },
            "text/html": [
              "<div>\n",
              "<style scoped>\n",
              "    .dataframe tbody tr th:only-of-type {\n",
              "        vertical-align: middle;\n",
              "    }\n",
              "\n",
              "    .dataframe tbody tr th {\n",
              "        vertical-align: top;\n",
              "    }\n",
              "\n",
              "    .dataframe thead th {\n",
              "        text-align: right;\n",
              "    }\n",
              "</style>\n",
              "<table border=\"1\" class=\"dataframe\">\n",
              "  <thead>\n",
              "    <tr style=\"text-align: right;\">\n",
              "      <th></th>\n",
              "      <th>Supplier</th>\n",
              "      <th>Transfer Ratio</th>\n",
              "    </tr>\n",
              "  </thead>\n",
              "  <tbody>\n",
              "    <tr>\n",
              "      <th>0</th>\n",
              "      <td>CHARLES JACQUIN ET CIE INC</td>\n",
              "      <td>45.90</td>\n",
              "    </tr>\n",
              "    <tr>\n",
              "      <th>1</th>\n",
              "      <td>FIFTH GENERATION INC</td>\n",
              "      <td>28.70</td>\n",
              "    </tr>\n",
              "    <tr>\n",
              "      <th>2</th>\n",
              "      <td>CALVERT BREWING COMPANY</td>\n",
              "      <td>13.36</td>\n",
              "    </tr>\n",
              "    <tr>\n",
              "      <th>3</th>\n",
              "      <td>HEAVEN HILL DISTILLERIES INC</td>\n",
              "      <td>12.70</td>\n",
              "    </tr>\n",
              "    <tr>\n",
              "      <th>4</th>\n",
              "      <td>MONTEBELLO BRANDS INC</td>\n",
              "      <td>12.66</td>\n",
              "    </tr>\n",
              "    <tr>\n",
              "      <th>5</th>\n",
              "      <td>PROXIMO SPIRITS INC</td>\n",
              "      <td>11.65</td>\n",
              "    </tr>\n",
              "    <tr>\n",
              "      <th>6</th>\n",
              "      <td>WILLIAM GRANT AND SONS INC</td>\n",
              "      <td>11.44</td>\n",
              "    </tr>\n",
              "    <tr>\n",
              "      <th>7</th>\n",
              "      <td>JIM BEAM BRANDS CO</td>\n",
              "      <td>11.16</td>\n",
              "    </tr>\n",
              "    <tr>\n",
              "      <th>8</th>\n",
              "      <td>BACARDI USA INC</td>\n",
              "      <td>11.15</td>\n",
              "    </tr>\n",
              "    <tr>\n",
              "      <th>9</th>\n",
              "      <td>RUSSIAN STANDARD VODKA (USA) INC</td>\n",
              "      <td>10.86</td>\n",
              "    </tr>\n",
              "  </tbody>\n",
              "</table>\n",
              "</div>"
            ],
            "text/plain": [
              "                           Supplier  Transfer Ratio\n",
              "0        CHARLES JACQUIN ET CIE INC           45.90\n",
              "1              FIFTH GENERATION INC           28.70\n",
              "2           CALVERT BREWING COMPANY           13.36\n",
              "3      HEAVEN HILL DISTILLERIES INC           12.70\n",
              "4             MONTEBELLO BRANDS INC           12.66\n",
              "5               PROXIMO SPIRITS INC           11.65\n",
              "6        WILLIAM GRANT AND SONS INC           11.44\n",
              "7                JIM BEAM BRANDS CO           11.16\n",
              "8                   BACARDI USA INC           11.15\n",
              "9  RUSSIAN STANDARD VODKA (USA) INC           10.86"
            ]
          },
          "execution_count": 17,
          "metadata": {},
          "output_type": "execute_result"
        }
      ],
      "source": [
        "top_transfers = df.groupby('Supplier')['Transfer Ratio'].mean().nlargest(10).reset_index().round(2)\n",
        "top_transfers"
      ]
    },
    {
      "cell_type": "code",
      "execution_count": 18,
      "metadata": {
        "colab": {
          "base_uri": "https://localhost:8080/",
          "height": 407
        },
        "id": "4pA_XHlg2uU8",
        "outputId": "47fd31d5-d697-4b16-c36f-259b0818b22b"
      },
      "outputs": [
        {
          "data": {
            "image/png": "[encoded data removed]",
            "text/plain": [
              "<Figure size 800x400 with 1 Axes>"
            ]
          },
          "metadata": {},
          "output_type": "display_data"
        }
      ],
      "source": [
        "plt.figure(figsize=(8, 4))\n",
        "sns.barplot(\n",
        "    data=top_transfers,\n",
        "    x='Transfer Ratio',\n",
        "    y='Supplier',\n",
        "    palette='viridis'\n",
        ")\n",
        "\n",
        "plt.title('Top 10 Suppliers by Average Transfer Ratio', pad=15)\n",
        "plt.xlabel('Average Transfer Ratio')\n",
        "plt.ylabel('')\n",
        "\n",
        "\n",
        "sns.despine()\n",
        "plt.tight_layout()\n",
        "plt.show()"
      ]
    },
    {
      "cell_type": "markdown",
      "metadata": {
        "id": "Gt_aoht82uU8"
      },
      "source": [
        "#### **Key Insights:**\n",
        "\n",
        "This bar chart shows the **Top 10 Suppliers by Average Transfer Ratio**, highlighting which suppliers have the highest average transfer ratios. Here are the key observations:\n",
        "\n",
        "---\n",
        "\n",
        "#### **1. FIFTH GENERATION INC Leads Significantly**\n",
        "- **Average Transfer Ratio**: Approximately **31**.\n",
        "- **Insight**: FIFTH GENERATION INC has the highest average transfer ratio among all suppliers, indicating that a large portion of their products are being transferred (likely from warehouses to retail locations or other channels). This suggests:\n",
        "  - Efficient inventory management and high demand for their products.\n",
        "  - Strong alignment between wholesale and retail operations.\n",
        "\n",
        "#### **2. PROXIMO SPIRITS INC and JIM BEAM BRANDS CO Follow Closely**\n",
        "- **PROXIMO SPIRITS INC**: Average transfer ratio around **20**.\n",
        "- **JIM BEAM BRANDS CO**: Average transfer ratio around **17**.\n",
        "- **Insight**: These suppliers also demonstrate strong performance in terms of product transfers. Their high transfer ratios suggest:\n",
        "  - Consistent demand for their products across different channels.\n",
        "  - Effective supply chain management to ensure timely delivery to retail locations.\n",
        "\n",
        "#### **3. Middle-Ranking Suppliers Show Moderate Performance**\n",
        "- **HEAVEN HILL DISTILLERIES INC**, **DIAGEO NORTH AMERICA INC**, and **SAZERAC CO** have average transfer ratios ranging from **15 to 17**.\n",
        "- **DISARONNO INTERNATIONAL LLC** and **WILLIAM GRANT AND SONS INC** have slightly lower ratios, around **14**.\n",
        "- **Insight**: These suppliers maintain a balanced performance, indicating steady demand and efficient inventory flow. However, they may not be as dominant as the top performers.\n",
        "\n",
        "#### **4. BACARDI USA INC and CAMPARI AMERICA LLC Lag Behind**\n",
        "- **BACARDI USA INC**: Average transfer ratio around **13**.\n",
        "- **CAMPARI AMERICA LLC**: Average transfer ratio around **12**.\n",
        "- **Insight**: These suppliers have the lowest transfer ratios among the top 10. This could indicate:\n",
        "  - Lower demand for their products compared to others.\n",
        "  - Potential inefficiencies in inventory management or distribution processes.\n",
        "  - A focus on direct-to-consumer sales rather than wholesale transfers.\n",
        "\n",
        "---"
      ]
    }
  ],
  "metadata": {
    "colab": {
      "collapsed_sections": [
        "_WjZ5CzBfusK",
        "G5JtXiQP0mnE",
        "ffuFYgmkfgdR",
        "sIvBIAKNuGm1",
        "U6vFa4sr1X0J",
        "t7OOr4cZiJV8",
        "ty_feXoa2bJ5",
        "SZp-XaZM2uU8",
        "ucnI0zIckaZ4"
      ],
      "provenance": []
    },
    "kernelspec": {
      "display_name": "data_projects",
      "language": "python",
      "name": "python3"
    },
    "language_info": {
      "codemirror_mode": {
        "name": "ipython",
        "version": 3
      },
      "file_extension": ".py",
      "mimetype": "text/x-python",
      "name": "python",
      "nbconvert_exporter": "python",
      "pygments_lexer": "ipython3",
      "version": "3.12.3"
    }
  },
  "nbformat": 4,
  "nbformat_minor": 0
}
