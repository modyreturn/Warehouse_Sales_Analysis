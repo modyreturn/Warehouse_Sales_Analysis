{
  "cells": [
    {
      "cell_type": "code",
      "execution_count": 1,
      "metadata": {
        "colab": {
          "base_uri": "https://localhost:8080/",
          "height": 112
        },
        "id": "ycGplJUhNCQU",
        "outputId": "71d157c3-cf23-421e-bcea-e7d4ee7bfb2b"
      },
      "outputs": [
        {
          "data": {
            "application/vnd.microsoft.datawrangler.viewer.v0+json": {
              "columns": [
                {
                  "name": "index",
                  "rawType": "int64",
                  "type": "integer"
                },
                {
                  "name": "YEAR",
                  "rawType": "int64",
                  "type": "integer"
                },
                {
                  "name": "MONTH",
                  "rawType": "int64",
                  "type": "integer"
                },
                {
                  "name": "SUPPLIER",
                  "rawType": "object",
                  "type": "string"
                },
                {
                  "name": "ITEM CODE",
                  "rawType": "object",
                  "type": "string"
                },
                {
                  "name": "ITEM DESCRIPTION",
                  "rawType": "object",
                  "type": "string"
                },
                {
                  "name": "ITEM TYPE",
                  "rawType": "object",
                  "type": "string"
                },
                {
                  "name": "RETAIL SALES",
                  "rawType": "float64",
                  "type": "float"
                },
                {
                  "name": "RETAIL TRANSFERS",
                  "rawType": "float64",
                  "type": "float"
                },
                {
                  "name": "WAREHOUSE SALES",
                  "rawType": "float64",
                  "type": "float"
                }
              ],
              "conversionMethod": "pd.DataFrame",
              "ref": "9e90c462-d5b3-4ab2-b2bb-cb682a5e809e",
              "rows": [
                [
                  "0",
                  "2020",
                  "1",
                  "REPUBLIC NATIONAL DISTRIBUTING CO",
                  "100009",
                  "BOOTLEG RED - 750ML",
                  "WINE",
                  "0.0",
                  "0.0",
                  "2.0"
                ],
                [
                  "1",
                  "2020",
                  "1",
                  "PWSWN INC",
                  "100024",
                  "MOMENT DE PLAISIR - 750ML",
                  "WINE",
                  "0.0",
                  "1.0",
                  "4.0"
                ]
              ],
              "shape": {
                "columns": 9,
                "rows": 2
              }
            },
            "text/html": [
              "<div>\n",
              "<style scoped>\n",
              "    .dataframe tbody tr th:only-of-type {\n",
              "        vertical-align: middle;\n",
              "    }\n",
              "\n",
              "    .dataframe tbody tr th {\n",
              "        vertical-align: top;\n",
              "    }\n",
              "\n",
              "    .dataframe thead th {\n",
              "        text-align: right;\n",
              "    }\n",
              "</style>\n",
              "<table border=\"1\" class=\"dataframe\">\n",
              "  <thead>\n",
              "    <tr style=\"text-align: right;\">\n",
              "      <th></th>\n",
              "      <th>YEAR</th>\n",
              "      <th>MONTH</th>\n",
              "      <th>SUPPLIER</th>\n",
              "      <th>ITEM CODE</th>\n",
              "      <th>ITEM DESCRIPTION</th>\n",
              "      <th>ITEM TYPE</th>\n",
              "      <th>RETAIL SALES</th>\n",
              "      <th>RETAIL TRANSFERS</th>\n",
              "      <th>WAREHOUSE SALES</th>\n",
              "    </tr>\n",
              "  </thead>\n",
              "  <tbody>\n",
              "    <tr>\n",
              "      <th>0</th>\n",
              "      <td>2020</td>\n",
              "      <td>1</td>\n",
              "      <td>REPUBLIC NATIONAL DISTRIBUTING CO</td>\n",
              "      <td>100009</td>\n",
              "      <td>BOOTLEG RED - 750ML</td>\n",
              "      <td>WINE</td>\n",
              "      <td>0.0</td>\n",
              "      <td>0.0</td>\n",
              "      <td>2.0</td>\n",
              "    </tr>\n",
              "    <tr>\n",
              "      <th>1</th>\n",
              "      <td>2020</td>\n",
              "      <td>1</td>\n",
              "      <td>PWSWN INC</td>\n",
              "      <td>100024</td>\n",
              "      <td>MOMENT DE PLAISIR - 750ML</td>\n",
              "      <td>WINE</td>\n",
              "      <td>0.0</td>\n",
              "      <td>1.0</td>\n",
              "      <td>4.0</td>\n",
              "    </tr>\n",
              "  </tbody>\n",
              "</table>\n",
              "</div>"
            ],
            "text/plain": [
              "   YEAR  MONTH                           SUPPLIER ITEM CODE  \\\n",
              "0  2020      1  REPUBLIC NATIONAL DISTRIBUTING CO    100009   \n",
              "1  2020      1                          PWSWN INC    100024   \n",
              "\n",
              "            ITEM DESCRIPTION ITEM TYPE  RETAIL SALES  RETAIL TRANSFERS  \\\n",
              "0        BOOTLEG RED - 750ML      WINE           0.0               0.0   \n",
              "1  MOMENT DE PLAISIR - 750ML      WINE           0.0               1.0   \n",
              "\n",
              "   WAREHOUSE SALES  \n",
              "0              2.0  \n",
              "1              4.0  "
            ]
          },
          "execution_count": 1,
          "metadata": {},
          "output_type": "execute_result"
        }
      ],
      "source": [
        "import pandas as pd\n",
        "import numpy as np\n",
        "import matplotlib.pyplot as plt\n",
        "import seaborn as sns\n",
        "from matplotlib.ticker import FuncFormatter\n",
        "\n",
        "import warnings\n",
        "warnings.filterwarnings('ignore')\n",
        "\n",
        "df = pd.read_csv(r'C:\\Users\\Mohamed Fawzi\\Desktop\\Warehouse Sales\\Warehouse_and_Retail_Sales.csv')\n",
        "\n",
        "df.head(2)"
      ]
    },
    {
      "cell_type": "markdown",
      "metadata": {
        "id": "3ksy1ch9kTZI"
      },
      "source": [
        "# Cleaning & Preparing The Data"
      ]
    },
    {
      "cell_type": "code",
      "execution_count": 2,
      "metadata": {
        "id": "VaCegRXcY8XU"
      },
      "outputs": [],
      "source": [
        "# I will convert all columns name to be title case - I prefer it like that :)\n",
        "df.columns = df.columns.str.title()"
      ]
    },
    {
      "cell_type": "code",
      "execution_count": 3,
      "metadata": {
        "id": "q_EcpE25faOK"
      },
      "outputs": [],
      "source": [
        "# drop null values\n",
        "df.dropna(inplace=True)"
      ]
    },
    {
      "cell_type": "code",
      "execution_count": 4,
      "metadata": {
        "colab": {
          "base_uri": "https://localhost:8080/",
          "height": 366
        },
        "id": "8XXfHOv3fhed",
        "outputId": "79b8b8d4-124b-4e90-ac2c-59e440867ce3"
      },
      "outputs": [
        {
          "data": {
            "text/plain": [
              "Year                0\n",
              "Month               0\n",
              "Supplier            0\n",
              "Item Code           0\n",
              "Item Description    0\n",
              "Item Type           0\n",
              "Retail Sales        0\n",
              "Retail Transfers    0\n",
              "Warehouse Sales     0\n",
              "dtype: int64"
            ]
          },
          "execution_count": 4,
          "metadata": {},
          "output_type": "execute_result"
        }
      ],
      "source": [
        "df.isna().sum()"
      ]
    },
    {
      "cell_type": "code",
      "execution_count": 5,
      "metadata": {
        "id": "CPhYpD1zo3AU"
      },
      "outputs": [],
      "source": [
        "# exclude 'STR_SUPPLIES', 'KEGS', 'REF', 'DUNNAGE', because most of the values are zeros\n",
        "df = df[df['Item Type'].isin(['WINE', 'BEER', 'LIQUOR','NON-ALCOHOL'])]"
      ]
    },
    {
      "cell_type": "code",
      "execution_count": 6,
      "metadata": {
        "colab": {
          "base_uri": "https://localhost:8080/"
        },
        "id": "8FJWkZqBe5Cd",
        "outputId": "ea47f749-fdb4-4bc8-c506-8e656fa85236"
      },
      "outputs": [
        {
          "data": {
            "text/plain": [
              "array(['WINE', 'BEER', 'LIQUOR', 'NON-ALCOHOL'], dtype=object)"
            ]
          },
          "execution_count": 6,
          "metadata": {},
          "output_type": "execute_result"
        }
      ],
      "source": [
        "df['Item Type'].unique()\n"
      ]
    },
    {
      "cell_type": "code",
      "execution_count": 7,
      "metadata": {
        "id": "sTVbfddhqUDV"
      },
      "outputs": [],
      "source": [
        "# Calculate mean values for only saleable items\n",
        "saleable_items = ['WINE', 'BEER', 'LIQUOR', 'NON-ALCOHOL']  # Define saleable items\n",
        "mean_values = df[df['Item Type'].isin(saleable_items)].groupby('Item Type')[['Warehouse Sales', 'Retail Transfers', 'Retail Sales']].mean()\n",
        "\n",
        "# Define a function to replace zeros\n",
        "def replace_zeros_with_mean(row, mean_values):\n",
        "    item_type = row['Item Type']\n",
        "    for col in ['Warehouse Sales', 'Retail Transfers', 'Retail Sales']:\n",
        "        if row[col] == 0.0 and item_type in mean_values.index:\n",
        "            row[col] = mean_values.loc[item_type, col]  # Replace zero with mean for this item type\n",
        "    return row\n",
        "\n",
        "# Apply the function to rows where the item type is saleable\n",
        "df = df.apply(replace_zeros_with_mean, mean_values=mean_values, axis=1)"
      ]
    },
    {
      "cell_type": "code",
      "execution_count": 8,
      "metadata": {
        "colab": {
          "base_uri": "https://localhost:8080/",
          "height": 81
        },
        "id": "Pz-X6BKAdlwv",
        "outputId": "44b0c161-4f6e-4144-82b9-a40c6987fbe3"
      },
      "outputs": [
        {
          "data": {
            "application/vnd.microsoft.datawrangler.viewer.v0+json": {
              "columns": [
                {
                  "name": "index",
                  "rawType": "int64",
                  "type": "integer"
                },
                {
                  "name": "Year",
                  "rawType": "int64",
                  "type": "integer"
                },
                {
                  "name": "Month",
                  "rawType": "int64",
                  "type": "integer"
                },
                {
                  "name": "Supplier",
                  "rawType": "object",
                  "type": "string"
                },
                {
                  "name": "Item Code",
                  "rawType": "object",
                  "type": "string"
                },
                {
                  "name": "Item Description",
                  "rawType": "object",
                  "type": "string"
                },
                {
                  "name": "Item Type",
                  "rawType": "object",
                  "type": "string"
                },
                {
                  "name": "Retail Sales",
                  "rawType": "float64",
                  "type": "float"
                },
                {
                  "name": "Retail Transfers",
                  "rawType": "float64",
                  "type": "float"
                },
                {
                  "name": "Warehouse Sales",
                  "rawType": "float64",
                  "type": "float"
                }
              ],
              "conversionMethod": "pd.DataFrame",
              "ref": "fb515657-3ae3-4c94-86b6-7e7576eacfa2",
              "rows": [
                [
                  "256817",
                  "2019",
                  "8",
                  "SUTTER HOME WINERY INC",
                  "80130",
                  "SUTTER HOME PINK MOSCATO - 750ML",
                  "WINE",
                  "10.92",
                  "8.0",
                  "39.0"
                ]
              ],
              "shape": {
                "columns": 9,
                "rows": 1
              }
            },
            "text/html": [
              "<div>\n",
              "<style scoped>\n",
              "    .dataframe tbody tr th:only-of-type {\n",
              "        vertical-align: middle;\n",
              "    }\n",
              "\n",
              "    .dataframe tbody tr th {\n",
              "        vertical-align: top;\n",
              "    }\n",
              "\n",
              "    .dataframe thead th {\n",
              "        text-align: right;\n",
              "    }\n",
              "</style>\n",
              "<table border=\"1\" class=\"dataframe\">\n",
              "  <thead>\n",
              "    <tr style=\"text-align: right;\">\n",
              "      <th></th>\n",
              "      <th>Year</th>\n",
              "      <th>Month</th>\n",
              "      <th>Supplier</th>\n",
              "      <th>Item Code</th>\n",
              "      <th>Item Description</th>\n",
              "      <th>Item Type</th>\n",
              "      <th>Retail Sales</th>\n",
              "      <th>Retail Transfers</th>\n",
              "      <th>Warehouse Sales</th>\n",
              "    </tr>\n",
              "  </thead>\n",
              "  <tbody>\n",
              "    <tr>\n",
              "      <th>256817</th>\n",
              "      <td>2019</td>\n",
              "      <td>8</td>\n",
              "      <td>SUTTER HOME WINERY INC</td>\n",
              "      <td>80130</td>\n",
              "      <td>SUTTER HOME PINK MOSCATO - 750ML</td>\n",
              "      <td>WINE</td>\n",
              "      <td>10.92</td>\n",
              "      <td>8.0</td>\n",
              "      <td>39.0</td>\n",
              "    </tr>\n",
              "  </tbody>\n",
              "</table>\n",
              "</div>"
            ],
            "text/plain": [
              "        Year  Month                Supplier Item Code  \\\n",
              "256817  2019      8  SUTTER HOME WINERY INC     80130   \n",
              "\n",
              "                        Item Description Item Type  Retail Sales  \\\n",
              "256817  SUTTER HOME PINK MOSCATO - 750ML      WINE         10.92   \n",
              "\n",
              "        Retail Transfers  Warehouse Sales  \n",
              "256817               8.0             39.0  "
            ]
          },
          "execution_count": 8,
          "metadata": {},
          "output_type": "execute_result"
        }
      ],
      "source": [
        "df.sample()"
      ]
    },
    {
      "cell_type": "code",
      "execution_count": 9,
      "metadata": {
        "colab": {
          "base_uri": "https://localhost:8080/"
        },
        "id": "qSfNo5P_lSXC",
        "outputId": "686062ae-1e02-4d94-ff4b-efc13ba36e79"
      },
      "outputs": [
        {
          "name": "stdout",
          "output_type": "stream",
          "text": [
            "<class 'pandas.core.frame.DataFrame'>\n",
            "Index: 296862 entries, 0 to 307644\n",
            "Data columns (total 10 columns):\n",
            " #   Column            Non-Null Count   Dtype         \n",
            "---  ------            --------------   -----         \n",
            " 0   Year              296862 non-null  int64         \n",
            " 1   Month             296862 non-null  int64         \n",
            " 2   Supplier          296862 non-null  object        \n",
            " 3   Item Code         296862 non-null  object        \n",
            " 4   Item Description  296862 non-null  object        \n",
            " 5   Item Type         296862 non-null  object        \n",
            " 6   Retail Sales      296862 non-null  float64       \n",
            " 7   Retail Transfers  296862 non-null  float64       \n",
            " 8   Warehouse Sales   296862 non-null  float64       \n",
            " 9   Date              296862 non-null  datetime64[ns]\n",
            "dtypes: datetime64[ns](1), float64(3), int64(2), object(4)\n",
            "memory usage: 24.9+ MB\n"
          ]
        }
      ],
      "source": [
        "# converting the Year & Month to datetime\n",
        "df['Date'] = pd.to_datetime(df['Year'].astype(str) + '-' + df['Month'].astype(str))\n",
        "\n",
        "df.info()"
      ]
    },
    {
      "cell_type": "code",
      "execution_count": 10,
      "metadata": {
        "id": "Xn3nwubGoSKk"
      },
      "outputs": [],
      "source": [
        "# Convert numeric columns to float\n",
        "numeric_columns = ['Retail Sales', 'Retail Transfers', 'Warehouse Sales']\n",
        "\n",
        "df[numeric_columns] = df[numeric_columns].apply(pd.to_numeric, errors='coerce')\n",
        "#df.info()\n"
      ]
    },
    {
      "cell_type": "code",
      "execution_count": 11,
      "metadata": {
        "id": "0_wNXnLup-Ib"
      },
      "outputs": [],
      "source": [
        "# extract month name from the date column that I created earlier\n",
        "df['Month Name'] = df['Date'].dt.month_name()"
      ]
    },
    {
      "cell_type": "markdown",
      "metadata": {
        "id": "lw_dOLPAfnes"
      },
      "source": [
        "# Exploratory Data Analysis (EDA):"
      ]
    },
    {
      "cell_type": "markdown",
      "metadata": {
        "id": "ucnI0zIckaZ4"
      },
      "source": [
        "## Warehouse Sales, Retail Sales and Retail Transfers Correlation"
      ]
    },
    {
      "cell_type": "markdown",
      "metadata": {
        "id": "2ZF7cd3O4jH_"
      },
      "source": [
        "Now, let's analyze the correlation between Warehouse Sales, Retail Sales and Retail Transfer to see how strongly each pair of variables is related, for example if increases in warehouse sales are associated with increases in retail transfers."
      ]
    },
    {
      "cell_type": "code",
      "execution_count": 12,
      "metadata": {
        "id": "HxnkdpRkkqMB"
      },
      "outputs": [],
      "source": [
        "corr = df[['Retail Sales', 'Warehouse Sales', 'Retail Transfers']].corr()"
      ]
    },
    {
      "cell_type": "code",
      "execution_count": 13,
      "metadata": {
        "colab": {
          "base_uri": "https://localhost:8080/",
          "height": 407
        },
        "id": "FjWVa-iAk5W8",
        "outputId": "3cd584ca-2388-44f4-d3bb-cc568bdd300b"
      },
      "outputs": [
        {
          "data": {
            "image/png": "[encoded data removed]",
            "text/plain": [
              "<Figure size 800x400 with 2 Axes>"
            ]
          },
          "metadata": {},
          "output_type": "display_data"
        }
      ],
      "source": [
        "plt.figure(figsize=(8, 4))\n",
        "sns.heatmap(\n",
        "    data=corr,\n",
        "    annot=True,\n",
        "    cmap='coolwarm',\n",
        "    vmin=-1,\n",
        "    vmax=1\n",
        ")\n",
        "\n",
        "plt.title('Correlation Matrix', pad=15)\n",
        "plt.tight_layout()\n",
        "plt.show()\n"
      ]
    },
    {
      "cell_type": "markdown",
      "metadata": {
        "id": "ZjUS21YfkKdq"
      },
      "source": [
        "### **Key Insights:**\n",
        "\n",
        "This correlation matrix provides a clear understanding of the relationships between **Retail Sales**, **Warehouse Sales**, and **Retail Transfers**. Here’s a breakdown of the key observations:\n",
        "\n",
        "---\n",
        "\n",
        "#### **1. Strong Positive Correlation Between Retail Sales and Retail Transfers**\n",
        "- **Correlation Coefficient**: **0.97**\n",
        "- **Interpretation**: There is a **very strong positive relationship** between retail sales and retail transfers. This suggests that:\n",
        "  - When retail transfers increase, retail sales tend to increase as well.\n",
        "  - Retail transfers are likely a significant driver of retail sales.\n",
        "\n",
        "#### **2. Moderate Positive Correlation Between Warehouse Sales and Retail Sales**\n",
        "- **Correlation Coefficient**: **0.51**\n",
        "- **Interpretion**: There is a **moderate positive relationship** between warehouse sales and retail sales. This indicates:\n",
        "  - As warehouse sales increase, retail sales also tend to increase, but not as strongly as with retail transfers.\n",
        "  - Wholesale activity (warehouse sales) may indirectly influence retail performance.\n",
        "\n",
        "#### **3. Moderate Positive Correlation Between Warehouse Sales and Retail Transfers**\n",
        "- **Correlation Coefficient**: **0.50**\n",
        "- **Interpretation**: Similar to the relationship between warehouse sales and retail sales, there is a **moderate positive relationship** between warehouse sales and retail transfers. This suggests:\n",
        "  - Wholesale activity (warehouse sales) may lead to increased retail transfers, which in turn drive retail sales.\n",
        "\n",
        "---"
      ]
    }
  ],
  "metadata": {
    "colab": {
      "collapsed_sections": [
        "_WjZ5CzBfusK",
        "G5JtXiQP0mnE",
        "ffuFYgmkfgdR",
        "sIvBIAKNuGm1",
        "U6vFa4sr1X0J",
        "t7OOr4cZiJV8",
        "ty_feXoa2bJ5",
        "SZp-XaZM2uU8",
        "ucnI0zIckaZ4"
      ],
      "provenance": []
    },
    "kernelspec": {
      "display_name": "data_projects",
      "language": "python",
      "name": "python3"
    },
    "language_info": {
      "codemirror_mode": {
        "name": "ipython",
        "version": 3
      },
      "file_extension": ".py",
      "mimetype": "text/x-python",
      "name": "python",
      "nbconvert_exporter": "python",
      "pygments_lexer": "ipython3",
      "version": "3.12.3"
    }
  },
  "nbformat": 4,
  "nbformat_minor": 0
}
