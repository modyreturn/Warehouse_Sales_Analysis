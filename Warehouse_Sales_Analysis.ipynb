{
  "cells": [
    {
      "cell_type": "code",
      "execution_count": 1,
      "metadata": {
        "colab": {
          "base_uri": "https://localhost:8080/",
          "height": 112
        },
        "id": "ycGplJUhNCQU",
        "outputId": "71d157c3-cf23-421e-bcea-e7d4ee7bfb2b"
      },
      "outputs": [
        {
          "data": {
            "application/vnd.microsoft.datawrangler.viewer.v0+json": {
              "columns": [
                {
                  "name": "index",
                  "rawType": "int64",
                  "type": "integer"
                },
                {
                  "name": "YEAR",
                  "rawType": "int64",
                  "type": "integer"
                },
                {
                  "name": "MONTH",
                  "rawType": "int64",
                  "type": "integer"
                },
                {
                  "name": "SUPPLIER",
                  "rawType": "object",
                  "type": "string"
                },
                {
                  "name": "ITEM CODE",
                  "rawType": "object",
                  "type": "string"
                },
                {
                  "name": "ITEM DESCRIPTION",
                  "rawType": "object",
                  "type": "string"
                },
                {
                  "name": "ITEM TYPE",
                  "rawType": "object",
                  "type": "string"
                },
                {
                  "name": "RETAIL SALES",
                  "rawType": "float64",
                  "type": "float"
                },
                {
                  "name": "RETAIL TRANSFERS",
                  "rawType": "float64",
                  "type": "float"
                },
                {
                  "name": "WAREHOUSE SALES",
                  "rawType": "float64",
                  "type": "float"
                }
              ],
              "conversionMethod": "pd.DataFrame",
              "ref": "1915f934-f237-41c9-a6ab-509949bc3183",
              "rows": [
                [
                  "0",
                  "2020",
                  "1",
                  "REPUBLIC NATIONAL DISTRIBUTING CO",
                  "100009",
                  "BOOTLEG RED - 750ML",
                  "WINE",
                  "0.0",
                  "0.0",
                  "2.0"
                ],
                [
                  "1",
                  "2020",
                  "1",
                  "PWSWN INC",
                  "100024",
                  "MOMENT DE PLAISIR - 750ML",
                  "WINE",
                  "0.0",
                  "1.0",
                  "4.0"
                ]
              ],
              "shape": {
                "columns": 9,
                "rows": 2
              }
            },
            "text/html": [
              "<div>\n",
              "<style scoped>\n",
              "    .dataframe tbody tr th:only-of-type {\n",
              "        vertical-align: middle;\n",
              "    }\n",
              "\n",
              "    .dataframe tbody tr th {\n",
              "        vertical-align: top;\n",
              "    }\n",
              "\n",
              "    .dataframe thead th {\n",
              "        text-align: right;\n",
              "    }\n",
              "</style>\n",
              "<table border=\"1\" class=\"dataframe\">\n",
              "  <thead>\n",
              "    <tr style=\"text-align: right;\">\n",
              "      <th></th>\n",
              "      <th>YEAR</th>\n",
              "      <th>MONTH</th>\n",
              "      <th>SUPPLIER</th>\n",
              "      <th>ITEM CODE</th>\n",
              "      <th>ITEM DESCRIPTION</th>\n",
              "      <th>ITEM TYPE</th>\n",
              "      <th>RETAIL SALES</th>\n",
              "      <th>RETAIL TRANSFERS</th>\n",
              "      <th>WAREHOUSE SALES</th>\n",
              "    </tr>\n",
              "  </thead>\n",
              "  <tbody>\n",
              "    <tr>\n",
              "      <th>0</th>\n",
              "      <td>2020</td>\n",
              "      <td>1</td>\n",
              "      <td>REPUBLIC NATIONAL DISTRIBUTING CO</td>\n",
              "      <td>100009</td>\n",
              "      <td>BOOTLEG RED - 750ML</td>\n",
              "      <td>WINE</td>\n",
              "      <td>0.0</td>\n",
              "      <td>0.0</td>\n",
              "      <td>2.0</td>\n",
              "    </tr>\n",
              "    <tr>\n",
              "      <th>1</th>\n",
              "      <td>2020</td>\n",
              "      <td>1</td>\n",
              "      <td>PWSWN INC</td>\n",
              "      <td>100024</td>\n",
              "      <td>MOMENT DE PLAISIR - 750ML</td>\n",
              "      <td>WINE</td>\n",
              "      <td>0.0</td>\n",
              "      <td>1.0</td>\n",
              "      <td>4.0</td>\n",
              "    </tr>\n",
              "  </tbody>\n",
              "</table>\n",
              "</div>"
            ],
            "text/plain": [
              "   YEAR  MONTH                           SUPPLIER ITEM CODE  \\\n",
              "0  2020      1  REPUBLIC NATIONAL DISTRIBUTING CO    100009   \n",
              "1  2020      1                          PWSWN INC    100024   \n",
              "\n",
              "            ITEM DESCRIPTION ITEM TYPE  RETAIL SALES  RETAIL TRANSFERS  \\\n",
              "0        BOOTLEG RED - 750ML      WINE           0.0               0.0   \n",
              "1  MOMENT DE PLAISIR - 750ML      WINE           0.0               1.0   \n",
              "\n",
              "   WAREHOUSE SALES  \n",
              "0              2.0  \n",
              "1              4.0  "
            ]
          },
          "execution_count": 1,
          "metadata": {},
          "output_type": "execute_result"
        }
      ],
      "source": [
        "import pandas as pd\n",
        "import numpy as np\n",
        "import matplotlib.pyplot as plt\n",
        "import seaborn as sns\n",
        "from matplotlib.ticker import FuncFormatter\n",
        "\n",
        "import warnings\n",
        "warnings.filterwarnings('ignore')\n",
        "\n",
        "df = pd.read_csv(r'C:\\Users\\Mohamed Fawzi\\Desktop\\Warehouse Sales\\Warehouse_and_Retail_Sales.csv')\n",
        "\n",
        "df.head(2)"
      ]
    },
    {
      "cell_type": "markdown",
      "metadata": {
        "id": "3ksy1ch9kTZI"
      },
      "source": [
        "# Cleaning & Preparing The Data"
      ]
    },
    {
      "cell_type": "code",
      "execution_count": 2,
      "metadata": {
        "id": "VaCegRXcY8XU"
      },
      "outputs": [],
      "source": [
        "# I will convert all columns name to be title case - I prefer it like that :)\n",
        "df.columns = df.columns.str.title()"
      ]
    },
    {
      "cell_type": "code",
      "execution_count": 5,
      "metadata": {
        "id": "q_EcpE25faOK"
      },
      "outputs": [],
      "source": [
        "# drop null values\n",
        "df.dropna(inplace=True)"
      ]
    },
    {
      "cell_type": "code",
      "execution_count": 6,
      "metadata": {
        "colab": {
          "base_uri": "https://localhost:8080/",
          "height": 366
        },
        "id": "8XXfHOv3fhed",
        "outputId": "79b8b8d4-124b-4e90-ac2c-59e440867ce3"
      },
      "outputs": [
        {
          "data": {
            "text/plain": [
              "Year                0\n",
              "Month               0\n",
              "Supplier            0\n",
              "Item Code           0\n",
              "Item Description    0\n",
              "Item Type           0\n",
              "Retail Sales        0\n",
              "Retail Transfers    0\n",
              "Warehouse Sales     0\n",
              "dtype: int64"
            ]
          },
          "execution_count": 6,
          "metadata": {},
          "output_type": "execute_result"
        }
      ],
      "source": [
        "df.isna().sum()"
      ]
    },
    {
      "cell_type": "code",
      "execution_count": null,
      "metadata": {
        "id": "CPhYpD1zo3AU"
      },
      "outputs": [],
      "source": [
        "# exclude 'STR_SUPPLIES', 'KEGS', 'REF', 'DUNNAGE', because most of the values are zeros\n",
        "df = df[df['Item Type'].isin(['WINE', 'BEER', 'LIQUOR','NON-ALCOHOL'])]"
      ]
    },
    {
      "cell_type": "code",
      "execution_count": 8,
      "metadata": {
        "colab": {
          "base_uri": "https://localhost:8080/"
        },
        "id": "8FJWkZqBe5Cd",
        "outputId": "ea47f749-fdb4-4bc8-c506-8e656fa85236"
      },
      "outputs": [
        {
          "data": {
            "text/plain": [
              "array(['WINE', 'BEER', 'LIQUOR', 'NON-ALCOHOL'], dtype=object)"
            ]
          },
          "execution_count": 8,
          "metadata": {},
          "output_type": "execute_result"
        }
      ],
      "source": [
        "df['Item Type'].unique()\n"
      ]
    },
    {
      "cell_type": "code",
      "execution_count": 9,
      "metadata": {
        "id": "sTVbfddhqUDV"
      },
      "outputs": [],
      "source": [
        "# Calculate mean values for only saleable items\n",
        "saleable_items = ['WINE', 'BEER', 'LIQUOR', 'NON-ALCOHOL']  # Define saleable items\n",
        "mean_values = df[df['Item Type'].isin(saleable_items)].groupby('Item Type')[['Warehouse Sales', 'Retail Transfers', 'Retail Sales']].mean()\n",
        "\n",
        "# Define a function to replace zeros\n",
        "def replace_zeros_with_mean(row, mean_values):\n",
        "    item_type = row['Item Type']\n",
        "    for col in ['Warehouse Sales', 'Retail Transfers', 'Retail Sales']:\n",
        "        if row[col] == 0.0 and item_type in mean_values.index:\n",
        "            row[col] = mean_values.loc[item_type, col]  # Replace zero with mean for this item type\n",
        "    return row\n",
        "\n",
        "# Apply the function to rows where the item type is saleable\n",
        "df = df.apply(replace_zeros_with_mean, mean_values=mean_values, axis=1)"
      ]
    },
    {
      "cell_type": "code",
      "execution_count": 10,
      "metadata": {
        "colab": {
          "base_uri": "https://localhost:8080/",
          "height": 81
        },
        "id": "Pz-X6BKAdlwv",
        "outputId": "44b0c161-4f6e-4144-82b9-a40c6987fbe3"
      },
      "outputs": [
        {
          "data": {
            "application/vnd.microsoft.datawrangler.viewer.v0+json": {
              "columns": [
                {
                  "name": "index",
                  "rawType": "int64",
                  "type": "integer"
                },
                {
                  "name": "Year",
                  "rawType": "int64",
                  "type": "integer"
                },
                {
                  "name": "Month",
                  "rawType": "int64",
                  "type": "integer"
                },
                {
                  "name": "Supplier",
                  "rawType": "object",
                  "type": "string"
                },
                {
                  "name": "Item Code",
                  "rawType": "object",
                  "type": "string"
                },
                {
                  "name": "Item Description",
                  "rawType": "object",
                  "type": "string"
                },
                {
                  "name": "Item Type",
                  "rawType": "object",
                  "type": "string"
                },
                {
                  "name": "Retail Sales",
                  "rawType": "float64",
                  "type": "float"
                },
                {
                  "name": "Retail Transfers",
                  "rawType": "float64",
                  "type": "float"
                },
                {
                  "name": "Warehouse Sales",
                  "rawType": "float64",
                  "type": "float"
                }
              ],
              "conversionMethod": "pd.DataFrame",
              "ref": "8f595e9f-0f8f-489b-a263-2e65ff807b5a",
              "rows": [
                [
                  "303756",
                  "2020",
                  "9",
                  "CAMPARI AMERICA LLC",
                  "44431",
                  "APEROL 6/CS - 750ML",
                  "LIQUOR",
                  "139.13",
                  "137.0",
                  "14.0"
                ]
              ],
              "shape": {
                "columns": 9,
                "rows": 1
              }
            },
            "text/html": [
              "<div>\n",
              "<style scoped>\n",
              "    .dataframe tbody tr th:only-of-type {\n",
              "        vertical-align: middle;\n",
              "    }\n",
              "\n",
              "    .dataframe tbody tr th {\n",
              "        vertical-align: top;\n",
              "    }\n",
              "\n",
              "    .dataframe thead th {\n",
              "        text-align: right;\n",
              "    }\n",
              "</style>\n",
              "<table border=\"1\" class=\"dataframe\">\n",
              "  <thead>\n",
              "    <tr style=\"text-align: right;\">\n",
              "      <th></th>\n",
              "      <th>Year</th>\n",
              "      <th>Month</th>\n",
              "      <th>Supplier</th>\n",
              "      <th>Item Code</th>\n",
              "      <th>Item Description</th>\n",
              "      <th>Item Type</th>\n",
              "      <th>Retail Sales</th>\n",
              "      <th>Retail Transfers</th>\n",
              "      <th>Warehouse Sales</th>\n",
              "    </tr>\n",
              "  </thead>\n",
              "  <tbody>\n",
              "    <tr>\n",
              "      <th>303756</th>\n",
              "      <td>2020</td>\n",
              "      <td>9</td>\n",
              "      <td>CAMPARI AMERICA LLC</td>\n",
              "      <td>44431</td>\n",
              "      <td>APEROL 6/CS - 750ML</td>\n",
              "      <td>LIQUOR</td>\n",
              "      <td>139.13</td>\n",
              "      <td>137.0</td>\n",
              "      <td>14.0</td>\n",
              "    </tr>\n",
              "  </tbody>\n",
              "</table>\n",
              "</div>"
            ],
            "text/plain": [
              "        Year  Month             Supplier Item Code     Item Description  \\\n",
              "303756  2020      9  CAMPARI AMERICA LLC     44431  APEROL 6/CS - 750ML   \n",
              "\n",
              "       Item Type  Retail Sales  Retail Transfers  Warehouse Sales  \n",
              "303756    LIQUOR        139.13             137.0             14.0  "
            ]
          },
          "execution_count": 10,
          "metadata": {},
          "output_type": "execute_result"
        }
      ],
      "source": [
        "df.sample()"
      ]
    },
    {
      "cell_type": "code",
      "execution_count": 12,
      "metadata": {
        "colab": {
          "base_uri": "https://localhost:8080/"
        },
        "id": "qSfNo5P_lSXC",
        "outputId": "686062ae-1e02-4d94-ff4b-efc13ba36e79"
      },
      "outputs": [
        {
          "name": "stdout",
          "output_type": "stream",
          "text": [
            "<class 'pandas.core.frame.DataFrame'>\n",
            "Index: 296862 entries, 0 to 307644\n",
            "Data columns (total 10 columns):\n",
            " #   Column            Non-Null Count   Dtype         \n",
            "---  ------            --------------   -----         \n",
            " 0   Year              296862 non-null  int64         \n",
            " 1   Month             296862 non-null  int64         \n",
            " 2   Supplier          296862 non-null  object        \n",
            " 3   Item Code         296862 non-null  object        \n",
            " 4   Item Description  296862 non-null  object        \n",
            " 5   Item Type         296862 non-null  object        \n",
            " 6   Retail Sales      296862 non-null  float64       \n",
            " 7   Retail Transfers  296862 non-null  float64       \n",
            " 8   Warehouse Sales   296862 non-null  float64       \n",
            " 9   Date              296862 non-null  datetime64[ns]\n",
            "dtypes: datetime64[ns](1), float64(3), int64(2), object(4)\n",
            "memory usage: 24.9+ MB\n"
          ]
        }
      ],
      "source": [
        "# converting the Year & Month to datetime\n",
        "df['Date'] = pd.to_datetime(df['Year'].astype(str) + '-' + df['Month'].astype(str))\n",
        "\n",
        "df.info()"
      ]
    },
    {
      "cell_type": "code",
      "execution_count": 13,
      "metadata": {
        "id": "Xn3nwubGoSKk"
      },
      "outputs": [],
      "source": [
        "# Convert numeric columns to float\n",
        "numeric_columns = ['Retail Sales', 'Retail Transfers', 'Warehouse Sales']\n",
        "\n",
        "df[numeric_columns] = df[numeric_columns].apply(pd.to_numeric, errors='coerce')\n",
        "#df.info()\n"
      ]
    },
    {
      "cell_type": "code",
      "execution_count": 14,
      "metadata": {
        "id": "0_wNXnLup-Ib"
      },
      "outputs": [],
      "source": [
        "# extract month name from the date column that I created earlier\n",
        "df['Month Name'] = df['Date'].dt.month_name()"
      ]
    },
    {
      "cell_type": "markdown",
      "metadata": {
        "id": "lw_dOLPAfnes"
      },
      "source": [
        "# Exploratory Data Analysis (EDA):"
      ]
    },
    {
      "cell_type": "markdown",
      "metadata": {
        "id": "_WjZ5CzBfusK"
      },
      "source": [
        "## Time Series Trend"
      ]
    },
    {
      "cell_type": "code",
      "execution_count": 15,
      "metadata": {
        "colab": {
          "base_uri": "https://localhost:8080/",
          "height": 112
        },
        "id": "9UsHKPmwsNEU",
        "outputId": "e0f0bf66-2a1b-4037-efb1-eb49d09eabb9"
      },
      "outputs": [
        {
          "data": {
            "application/vnd.microsoft.datawrangler.viewer.v0+json": {
              "columns": [
                {
                  "name": "index",
                  "rawType": "int64",
                  "type": "integer"
                },
                {
                  "name": "Month Name",
                  "rawType": "category",
                  "type": "unknown"
                },
                {
                  "name": "Warehouse Sales",
                  "rawType": "float64",
                  "type": "float"
                },
                {
                  "name": "Retail Sales",
                  "rawType": "float64",
                  "type": "float"
                }
              ],
              "conversionMethod": "pd.DataFrame",
              "ref": "64c74ba9-ed74-4e8f-b1f6-f270c2d02d79",
              "rows": [
                [
                  "0",
                  "April",
                  "325981.52",
                  "110407.22"
                ],
                [
                  "1",
                  "August",
                  "797203.68",
                  "234754.87"
                ]
              ],
              "shape": {
                "columns": 3,
                "rows": 2
              }
            },
            "text/html": [
              "<div>\n",
              "<style scoped>\n",
              "    .dataframe tbody tr th:only-of-type {\n",
              "        vertical-align: middle;\n",
              "    }\n",
              "\n",
              "    .dataframe tbody tr th {\n",
              "        vertical-align: top;\n",
              "    }\n",
              "\n",
              "    .dataframe thead th {\n",
              "        text-align: right;\n",
              "    }\n",
              "</style>\n",
              "<table border=\"1\" class=\"dataframe\">\n",
              "  <thead>\n",
              "    <tr style=\"text-align: right;\">\n",
              "      <th></th>\n",
              "      <th>Month Name</th>\n",
              "      <th>Warehouse Sales</th>\n",
              "      <th>Retail Sales</th>\n",
              "    </tr>\n",
              "  </thead>\n",
              "  <tbody>\n",
              "    <tr>\n",
              "      <th>0</th>\n",
              "      <td>April</td>\n",
              "      <td>325981.52</td>\n",
              "      <td>110407.22</td>\n",
              "    </tr>\n",
              "    <tr>\n",
              "      <th>1</th>\n",
              "      <td>August</td>\n",
              "      <td>797203.68</td>\n",
              "      <td>234754.87</td>\n",
              "    </tr>\n",
              "  </tbody>\n",
              "</table>\n",
              "</div>"
            ],
            "text/plain": [
              "  Month Name  Warehouse Sales  Retail Sales\n",
              "0      April        325981.52     110407.22\n",
              "1     August        797203.68     234754.87"
            ]
          },
          "execution_count": 15,
          "metadata": {},
          "output_type": "execute_result"
        }
      ],
      "source": [
        "monthly_sales = df.groupby('Month Name')[['Warehouse Sales', 'Retail Sales']].sum().reset_index().round(2)\n",
        "\n",
        "month_order = [\n",
        "    \"January\", \"February\", \"March\", \"April\", \"May\", \"June\",\n",
        "    \"July\", \"August\", \"September\", \"October\", \"November\", \"December\"\n",
        "]\n",
        "\n",
        "# order by month name\n",
        "monthly_sales['Month Name'] = pd.Categorical(monthly_sales['Month Name'], categories=month_order, ordered=True)\n",
        "monthly_sales.head(2)"
      ]
    },
    {
      "cell_type": "code",
      "execution_count": 16,
      "metadata": {
        "colab": {
          "base_uri": "https://localhost:8080/",
          "height": 112
        },
        "id": "4JvZtgcn7sII",
        "outputId": "2d88b3e3-e28c-4427-a4fc-94d2ecc62c93"
      },
      "outputs": [
        {
          "data": {
            "application/vnd.microsoft.datawrangler.viewer.v0+json": {
              "columns": [
                {
                  "name": "index",
                  "rawType": "int64",
                  "type": "integer"
                },
                {
                  "name": "Month Name",
                  "rawType": "category",
                  "type": "unknown"
                },
                {
                  "name": "Sales Type",
                  "rawType": "object",
                  "type": "string"
                },
                {
                  "name": "Sales",
                  "rawType": "float64",
                  "type": "float"
                }
              ],
              "conversionMethod": "pd.DataFrame",
              "ref": "70282db4-625b-472a-a786-4ead33d9ee18",
              "rows": [
                [
                  "0",
                  "April",
                  "Warehouse Sales",
                  "325981.52"
                ],
                [
                  "1",
                  "August",
                  "Warehouse Sales",
                  "797203.68"
                ]
              ],
              "shape": {
                "columns": 3,
                "rows": 2
              }
            },
            "text/html": [
              "<div>\n",
              "<style scoped>\n",
              "    .dataframe tbody tr th:only-of-type {\n",
              "        vertical-align: middle;\n",
              "    }\n",
              "\n",
              "    .dataframe tbody tr th {\n",
              "        vertical-align: top;\n",
              "    }\n",
              "\n",
              "    .dataframe thead th {\n",
              "        text-align: right;\n",
              "    }\n",
              "</style>\n",
              "<table border=\"1\" class=\"dataframe\">\n",
              "  <thead>\n",
              "    <tr style=\"text-align: right;\">\n",
              "      <th></th>\n",
              "      <th>Month Name</th>\n",
              "      <th>Sales Type</th>\n",
              "      <th>Sales</th>\n",
              "    </tr>\n",
              "  </thead>\n",
              "  <tbody>\n",
              "    <tr>\n",
              "      <th>0</th>\n",
              "      <td>April</td>\n",
              "      <td>Warehouse Sales</td>\n",
              "      <td>325981.52</td>\n",
              "    </tr>\n",
              "    <tr>\n",
              "      <th>1</th>\n",
              "      <td>August</td>\n",
              "      <td>Warehouse Sales</td>\n",
              "      <td>797203.68</td>\n",
              "    </tr>\n",
              "  </tbody>\n",
              "</table>\n",
              "</div>"
            ],
            "text/plain": [
              "  Month Name       Sales Type      Sales\n",
              "0      April  Warehouse Sales  325981.52\n",
              "1     August  Warehouse Sales  797203.68"
            ]
          },
          "execution_count": 16,
          "metadata": {},
          "output_type": "execute_result"
        }
      ],
      "source": [
        "# melt the dataframe for plotting.\n",
        "monthly_sales_melted = monthly_sales.melt(id_vars='Month Name', var_name='Sales Type', value_name='Sales')\n",
        "monthly_sales_melted.head(2)"
      ]
    },
    {
      "cell_type": "code",
      "execution_count": 17,
      "metadata": {
        "colab": {
          "base_uri": "https://localhost:8080/",
          "height": 407
        },
        "id": "6c-niglUtm4J",
        "outputId": "a33593fa-f059-4154-e5c8-6925fb0f2a11"
      },
      "outputs": [
        {
          "data": {
            "image/png": "[encoded data removed]",
            "text/plain": [
              "<Figure size 800x400 with 1 Axes>"
            ]
          },
          "metadata": {},
          "output_type": "display_data"
        }
      ],
      "source": [
        "plt.figure(figsize=(8, 4))\n",
        "sns.lineplot(\n",
        "            data=monthly_sales_melted,\n",
        "             x='Month Name',\n",
        "             y='Sales',\n",
        "             hue='Sales Type',\n",
        "             palette='Set1',\n",
        "             marker='o',\n",
        "             markersize=5,\n",
        "\n",
        "\n",
        "\n",
        "        )\n",
        "\n",
        "def format_currency(x, pos):\n",
        "    if x >= 1e6:\n",
        "        return '${:1.1f}M'.format(x*1e-6)\n",
        "    else:\n",
        "        return '${:1.0f}K'.format(x*1e-3)\n",
        "\n",
        "# Apply the currency format to the y-axis\n",
        "plt.gca().yaxis.set_major_formatter(FuncFormatter(format_currency))\n",
        "\n",
        "plt.title('Monthly Retail Sales', pad=20)\n",
        "plt.xlabel('')\n",
        "plt.ylabel('Sales ($)')\n",
        "\n",
        "plt.xticks(rotation=45)\n",
        "plt.legend(ncols=2, loc='upper center', frameon=False, bbox_to_anchor=(0.5, 1.1), fontsize=9)\n",
        "\n",
        "sns.despine()\n",
        "plt.tight_layout()\n",
        "plt.show()\n"
      ]
    },
    {
      "cell_type": "markdown",
      "metadata": {
        "id": "gZUxMN_QoXI7"
      },
      "source": [
        "Here are some key insights from the Monthly Retail Sales chart:\n",
        "-   Warehouse Sales Are Consistently Higher:\n",
        "\n",
        "    -   Throughout the year, warehouse sales significantly outperform retail sales, often by more than double.\n",
        "\n",
        "-   Peak Sales Months:\n",
        "\n",
        "    -   July marks the highest month for warehouse sales (~$1.2M).\n",
        "\n",
        "    -   Retail sales also peak in July (~$350K), suggesting seasonal or promotional factors affecting both channels.\n",
        "\n",
        "-   Lowest Sales Periods:\n",
        "\n",
        "    -   April is the weakest month for both warehouse and retail sales, particularly low for retail (~$100K).\n",
        "\n",
        "-   Seasonal Trends:\n",
        "\n",
        "    -   Warehouse sales exhibit more volatility with large spikes (June–July, September).\n",
        "\n",
        "    -   Retail sales are relatively stable with moderate fluctuations.\n",
        "\n",
        "-----"
      ]
    },
    {
      "cell_type": "markdown",
      "metadata": {
        "id": "1_yZseYra41G"
      },
      "source": [
        "### Average Monthly Sales:\n"
      ]
    },
    {
      "cell_type": "code",
      "execution_count": 18,
      "metadata": {
        "colab": {
          "base_uri": "https://localhost:8080/",
          "height": 112
        },
        "id": "srwDTHFna41H",
        "outputId": "66b78702-8f90-4eb8-bf10-801a818f5f9e"
      },
      "outputs": [
        {
          "data": {
            "application/vnd.microsoft.datawrangler.viewer.v0+json": {
              "columns": [
                {
                  "name": "index",
                  "rawType": "int64",
                  "type": "integer"
                },
                {
                  "name": "Month Name",
                  "rawType": "category",
                  "type": "unknown"
                },
                {
                  "name": "Sales Type",
                  "rawType": "object",
                  "type": "string"
                },
                {
                  "name": "Sales",
                  "rawType": "float64",
                  "type": "float"
                }
              ],
              "conversionMethod": "pd.DataFrame",
              "ref": "37643287-d19c-4637-b6f9-6eb3c380ae3c",
              "rows": [
                [
                  "0",
                  "April",
                  "Warehouse Sales",
                  "26.56"
                ],
                [
                  "1",
                  "August",
                  "Warehouse Sales",
                  "31.91"
                ]
              ],
              "shape": {
                "columns": 3,
                "rows": 2
              }
            },
            "text/html": [
              "<div>\n",
              "<style scoped>\n",
              "    .dataframe tbody tr th:only-of-type {\n",
              "        vertical-align: middle;\n",
              "    }\n",
              "\n",
              "    .dataframe tbody tr th {\n",
              "        vertical-align: top;\n",
              "    }\n",
              "\n",
              "    .dataframe thead th {\n",
              "        text-align: right;\n",
              "    }\n",
              "</style>\n",
              "<table border=\"1\" class=\"dataframe\">\n",
              "  <thead>\n",
              "    <tr style=\"text-align: right;\">\n",
              "      <th></th>\n",
              "      <th>Month Name</th>\n",
              "      <th>Sales Type</th>\n",
              "      <th>Sales</th>\n",
              "    </tr>\n",
              "  </thead>\n",
              "  <tbody>\n",
              "    <tr>\n",
              "      <th>0</th>\n",
              "      <td>April</td>\n",
              "      <td>Warehouse Sales</td>\n",
              "      <td>26.56</td>\n",
              "    </tr>\n",
              "    <tr>\n",
              "      <th>1</th>\n",
              "      <td>August</td>\n",
              "      <td>Warehouse Sales</td>\n",
              "      <td>31.91</td>\n",
              "    </tr>\n",
              "  </tbody>\n",
              "</table>\n",
              "</div>"
            ],
            "text/plain": [
              "  Month Name       Sales Type  Sales\n",
              "0      April  Warehouse Sales  26.56\n",
              "1     August  Warehouse Sales  31.91"
            ]
          },
          "execution_count": 18,
          "metadata": {},
          "output_type": "execute_result"
        }
      ],
      "source": [
        "# Monthly seasonality pattern\n",
        "seasonality = df.groupby('Month Name')[['Warehouse Sales', 'Retail Sales']].mean().reset_index().round(2)\n",
        "seasonality['Month Name'] = pd.Categorical(seasonality['Month Name'], categories=month_order, ordered=True)\n",
        "seasonality_melted = seasonality.melt(id_vars='Month Name', var_name='Sales Type', value_name='Sales')\n",
        "\n",
        "seasonality_melted.head(2)"
      ]
    },
    {
      "cell_type": "code",
      "execution_count": 19,
      "metadata": {
        "colab": {
          "base_uri": "https://localhost:8080/",
          "height": 407
        },
        "id": "RSbP7arDa41I",
        "outputId": "f799769c-db49-4a65-ef38-dc43c66c6c67"
      },
      "outputs": [
        {
          "data": {
            "image/png": "[encoded data removed]",
            "text/plain": [
              "<Figure size 800x400 with 1 Axes>"
            ]
          },
          "metadata": {},
          "output_type": "display_data"
        }
      ],
      "source": [
        "plt.figure(figsize=(8,4))\n",
        "sns.lineplot(\n",
        "        data=seasonality_melted,\n",
        "    x='Month Name',\n",
        "    y='Sales',\n",
        "    hue='Sales Type',\n",
        "        palette='Set1',\n",
        "        marker='o',\n",
        "        markersize=5,\n",
        "\n",
        ")\n",
        "\n",
        "plt.title('Average Warehouse & Retail Sales by Month', pad=20)\n",
        "plt.xlabel('')\n",
        "plt.ylabel('Average Sales ($)')\n",
        "plt.xticks(rotation=45)\n",
        "\n",
        "plt.legend(ncols=2, loc='upper center', frameon=False, bbox_to_anchor=(0.5, 1.1), fontsize=8)\n",
        "sns.despine()\n",
        "plt.tight_layout()\n",
        "plt.show()"
      ]
    },
    {
      "cell_type": "markdown",
      "metadata": {
        "id": "cJ3RRpu4ccK4"
      },
      "source": [
        "\n",
        "\n",
        "### **Key Insights**\n",
        "\n",
        "1. **July Is the Peak for Both Channels**:\n",
        "\n",
        "   * **Warehouse Sales** peak in **July (\\~\\$34)**, followed closely by **May and June**.\n",
        "   * **Retail Sales** also show a smaller peak in **December (\\~\\$11)** and **March**.\n",
        "\n",
        "2. **Warehouse Sales Show a Strong Mid-Year Surge**:\n",
        "\n",
        "   * From **April to July**, there's a noticeable rise in average warehouse sales, suggesting increased B2B demand or bulk purchasing during this period.\n",
        "\n",
        "3. **Retail Sales Are Steadier But Lower**:\n",
        "\n",
        "   * Retail sales fluctuate mildly between **\\$8 and \\$11**, showing more stability but consistently lower values than warehouse sales.\n",
        "\n",
        "-----\n",
        "\n"
      ]
    },
    {
      "cell_type": "markdown",
      "metadata": {
        "id": "G5JtXiQP0mnE"
      },
      "source": [
        "## **Item Type Analysis**"
      ]
    },
    {
      "cell_type": "markdown",
      "metadata": {
        "id": "ffuFYgmkfgdR"
      },
      "source": [
        "### Item Distribution"
      ]
    },
    {
      "cell_type": "markdown",
      "metadata": {
        "id": "mX2fFKe1Be1j"
      },
      "source": [
        "Now, let's see how many items fall under each item type to undersatand the distribution of item types in the dataset."
      ]
    },
    {
      "cell_type": "code",
      "execution_count": 20,
      "metadata": {
        "colab": {
          "base_uri": "https://localhost:8080/",
          "height": 175
        },
        "id": "D9AT32v4o6Cz",
        "outputId": "2d8b9f47-70f4-4702-b781-fe22f21c43b8"
      },
      "outputs": [
        {
          "data": {
            "application/vnd.microsoft.datawrangler.viewer.v0+json": {
              "columns": [
                {
                  "name": "index",
                  "rawType": "int64",
                  "type": "integer"
                },
                {
                  "name": "Item Type",
                  "rawType": "object",
                  "type": "string"
                },
                {
                  "name": "count",
                  "rawType": "int64",
                  "type": "integer"
                }
              ],
              "conversionMethod": "pd.DataFrame",
              "ref": "673fd33a-071b-4e93-9cdb-4ca47f201124",
              "rows": [
                [
                  "0",
                  "WINE",
                  "187640"
                ],
                [
                  "1",
                  "LIQUOR",
                  "64910"
                ],
                [
                  "2",
                  "BEER",
                  "42413"
                ],
                [
                  "3",
                  "NON-ALCOHOL",
                  "1899"
                ]
              ],
              "shape": {
                "columns": 2,
                "rows": 4
              }
            },
            "text/html": [
              "<div>\n",
              "<style scoped>\n",
              "    .dataframe tbody tr th:only-of-type {\n",
              "        vertical-align: middle;\n",
              "    }\n",
              "\n",
              "    .dataframe tbody tr th {\n",
              "        vertical-align: top;\n",
              "    }\n",
              "\n",
              "    .dataframe thead th {\n",
              "        text-align: right;\n",
              "    }\n",
              "</style>\n",
              "<table border=\"1\" class=\"dataframe\">\n",
              "  <thead>\n",
              "    <tr style=\"text-align: right;\">\n",
              "      <th></th>\n",
              "      <th>Item Type</th>\n",
              "      <th>count</th>\n",
              "    </tr>\n",
              "  </thead>\n",
              "  <tbody>\n",
              "    <tr>\n",
              "      <th>0</th>\n",
              "      <td>WINE</td>\n",
              "      <td>187640</td>\n",
              "    </tr>\n",
              "    <tr>\n",
              "      <th>1</th>\n",
              "      <td>LIQUOR</td>\n",
              "      <td>64910</td>\n",
              "    </tr>\n",
              "    <tr>\n",
              "      <th>2</th>\n",
              "      <td>BEER</td>\n",
              "      <td>42413</td>\n",
              "    </tr>\n",
              "    <tr>\n",
              "      <th>3</th>\n",
              "      <td>NON-ALCOHOL</td>\n",
              "      <td>1899</td>\n",
              "    </tr>\n",
              "  </tbody>\n",
              "</table>\n",
              "</div>"
            ],
            "text/plain": [
              "     Item Type   count\n",
              "0         WINE  187640\n",
              "1       LIQUOR   64910\n",
              "2         BEER   42413\n",
              "3  NON-ALCOHOL    1899"
            ]
          },
          "execution_count": 20,
          "metadata": {},
          "output_type": "execute_result"
        }
      ],
      "source": [
        "# item counts\n",
        "df_items = df['Item Type'].value_counts().reset_index()\n",
        "df_items"
      ]
    },
    {
      "cell_type": "code",
      "execution_count": 23,
      "metadata": {
        "colab": {
          "base_uri": "https://localhost:8080/",
          "height": 774
        },
        "id": "Pz-5D20eqdWT",
        "outputId": "1680108c-7e15-467d-ad87-89540f134bbb"
      },
      "outputs": [
        {
          "data": {
            "image/png": "[encoded data removed]",
            "text/plain": [
              "<Figure size 500x500 with 1 Axes>"
            ]
          },
          "metadata": {},
          "output_type": "display_data"
        }
      ],
      "source": [
        "plt.figure(figsize=(5, 5))\n",
        "plt.pie(\n",
        "    df_items['count'],\n",
        "    labels=df_items['Item Type'],\n",
        "    autopct='%1.1f%%',\n",
        "    startangle=180,\n",
        "    colors=sns.color_palette('Set1'),\n",
        "    explode=[0.02] * len(df_items)\n",
        ")\n",
        "\n",
        "\n",
        "plt.title('Item Type Distribution', pad=20)\n",
        "\n",
        "sns.despine()\n",
        "plt.tight_layout()\n",
        "plt.show()"
      ]
    },
    {
      "cell_type": "markdown",
      "metadata": {
        "id": "_Gl2g_GftvNB"
      },
      "source": [
        "#### **Key Insights:**\n",
        "\n",
        "1. **Wine Dominates the Product Mix**:\n",
        "\n",
        "   * **Wine** represents the majority share at **63.2%**, indicating it’s the most stocked or sold item type—likely the primary revenue driver.\n",
        "\n",
        "2. **Liquor and Beer Have Moderate Shares**:\n",
        "\n",
        "   * **Liquor** accounts for **21.9%**, showing strong demand.\n",
        "   * **Beer** holds **14.3%**, rounding out the major alcoholic categories.\n",
        "\n",
        "3. **Non-Alcoholic Items Are Negligible**:\n",
        "\n",
        "   * Just **0.6%** of the items fall under the **Non-Alcohol** category, suggesting very limited product variety or sales in this segment.\n",
        "\n",
        "\n",
        "---\n"
      ]
    },
    {
      "cell_type": "markdown",
      "metadata": {
        "id": "sIvBIAKNuGm1"
      },
      "source": [
        "### Sale by Item Type"
      ]
    },
    {
      "cell_type": "markdown",
      "metadata": {
        "id": "isYYN1VnCP8J"
      },
      "source": [
        "Let's see the total Warehouse and Retail Sales for each Item Type:\n"
      ]
    },
    {
      "cell_type": "code",
      "execution_count": 24,
      "metadata": {
        "colab": {
          "base_uri": "https://localhost:8080/",
          "height": 300
        },
        "id": "fRr0LCv8fkDb",
        "outputId": "d91c3001-229d-4a20-ed81-24fef1b0509f"
      },
      "outputs": [
        {
          "data": {
            "application/vnd.microsoft.datawrangler.viewer.v0+json": {
              "columns": [
                {
                  "name": "index",
                  "rawType": "int64",
                  "type": "integer"
                },
                {
                  "name": "Item Type",
                  "rawType": "object",
                  "type": "string"
                },
                {
                  "name": "Sales Type",
                  "rawType": "object",
                  "type": "string"
                },
                {
                  "name": "Sales",
                  "rawType": "float64",
                  "type": "float"
                }
              ],
              "conversionMethod": "pd.DataFrame",
              "ref": "51edfb0f-fb17-4d01-902e-1d0680ac3e17",
              "rows": [
                [
                  "0",
                  "BEER",
                  "Warehouse Sales",
                  "6959533.38"
                ],
                [
                  "1",
                  "WINE",
                  "Warehouse Sales",
                  "1408877.62"
                ],
                [
                  "2",
                  "LIQUOR",
                  "Warehouse Sales",
                  "170856.14"
                ],
                [
                  "3",
                  "NON-ALCOHOL",
                  "Warehouse Sales",
                  "36491.0"
                ],
                [
                  "4",
                  "BEER",
                  "Retail Sales",
                  "880846.95"
                ],
                [
                  "5",
                  "WINE",
                  "Retail Sales",
                  "1089747.11"
                ],
                [
                  "6",
                  "LIQUOR",
                  "Retail Sales",
                  "828450.27"
                ],
                [
                  "7",
                  "NON-ALCOHOL",
                  "Retail Sales",
                  "30681.71"
                ]
              ],
              "shape": {
                "columns": 3,
                "rows": 8
              }
            },
            "text/html": [
              "<div>\n",
              "<style scoped>\n",
              "    .dataframe tbody tr th:only-of-type {\n",
              "        vertical-align: middle;\n",
              "    }\n",
              "\n",
              "    .dataframe tbody tr th {\n",
              "        vertical-align: top;\n",
              "    }\n",
              "\n",
              "    .dataframe thead th {\n",
              "        text-align: right;\n",
              "    }\n",
              "</style>\n",
              "<table border=\"1\" class=\"dataframe\">\n",
              "  <thead>\n",
              "    <tr style=\"text-align: right;\">\n",
              "      <th></th>\n",
              "      <th>Item Type</th>\n",
              "      <th>Sales Type</th>\n",
              "      <th>Sales</th>\n",
              "    </tr>\n",
              "  </thead>\n",
              "  <tbody>\n",
              "    <tr>\n",
              "      <th>0</th>\n",
              "      <td>BEER</td>\n",
              "      <td>Warehouse Sales</td>\n",
              "      <td>6959533.38</td>\n",
              "    </tr>\n",
              "    <tr>\n",
              "      <th>1</th>\n",
              "      <td>WINE</td>\n",
              "      <td>Warehouse Sales</td>\n",
              "      <td>1408877.62</td>\n",
              "    </tr>\n",
              "    <tr>\n",
              "      <th>2</th>\n",
              "      <td>LIQUOR</td>\n",
              "      <td>Warehouse Sales</td>\n",
              "      <td>170856.14</td>\n",
              "    </tr>\n",
              "    <tr>\n",
              "      <th>3</th>\n",
              "      <td>NON-ALCOHOL</td>\n",
              "      <td>Warehouse Sales</td>\n",
              "      <td>36491.00</td>\n",
              "    </tr>\n",
              "    <tr>\n",
              "      <th>4</th>\n",
              "      <td>BEER</td>\n",
              "      <td>Retail Sales</td>\n",
              "      <td>880846.95</td>\n",
              "    </tr>\n",
              "    <tr>\n",
              "      <th>5</th>\n",
              "      <td>WINE</td>\n",
              "      <td>Retail Sales</td>\n",
              "      <td>1089747.11</td>\n",
              "    </tr>\n",
              "    <tr>\n",
              "      <th>6</th>\n",
              "      <td>LIQUOR</td>\n",
              "      <td>Retail Sales</td>\n",
              "      <td>828450.27</td>\n",
              "    </tr>\n",
              "    <tr>\n",
              "      <th>7</th>\n",
              "      <td>NON-ALCOHOL</td>\n",
              "      <td>Retail Sales</td>\n",
              "      <td>30681.71</td>\n",
              "    </tr>\n",
              "  </tbody>\n",
              "</table>\n",
              "</div>"
            ],
            "text/plain": [
              "     Item Type       Sales Type       Sales\n",
              "0         BEER  Warehouse Sales  6959533.38\n",
              "1         WINE  Warehouse Sales  1408877.62\n",
              "2       LIQUOR  Warehouse Sales   170856.14\n",
              "3  NON-ALCOHOL  Warehouse Sales    36491.00\n",
              "4         BEER     Retail Sales   880846.95\n",
              "5         WINE     Retail Sales  1089747.11\n",
              "6       LIQUOR     Retail Sales   828450.27\n",
              "7  NON-ALCOHOL     Retail Sales    30681.71"
            ]
          },
          "execution_count": 24,
          "metadata": {},
          "output_type": "execute_result"
        }
      ],
      "source": [
        "sales_by_item_type = df.groupby('Item Type')[['Warehouse Sales', 'Retail Sales']].sum().reset_index().round(2)\n",
        "sales_by_item_type = sales_by_item_type.sort_values(by='Warehouse Sales', ascending=False)\n",
        "\n",
        "sales_by_item_type_melted = sales_by_item_type.melt(id_vars='Item Type', var_name='Sales Type', value_name='Sales')\n",
        "sales_by_item_type_melted"
      ]
    },
    {
      "cell_type": "code",
      "execution_count": 25,
      "metadata": {
        "colab": {
          "base_uri": "https://localhost:8080/",
          "height": 407
        },
        "id": "_0amgViAvBlK",
        "outputId": "c7857f52-83f9-4fbe-a181-38d2dae4e4bc"
      },
      "outputs": [
        {
          "data": {
            "image/png": "[encoded data removed]",
            "text/plain": [
              "<Figure size 800x400 with 1 Axes>"
            ]
          },
          "metadata": {},
          "output_type": "display_data"
        }
      ],
      "source": [
        "plt.figure(figsize=(8, 4))\n",
        "sns.barplot(\n",
        "    data=sales_by_item_type_melted,\n",
        "    x='Sales',\n",
        "    y='Item Type',\n",
        "    hue='Sales Type',\n",
        "    palette='viridis'\n",
        ")\n",
        "\n",
        "plt.gca().xaxis.set_major_formatter(FuncFormatter(format_currency)) # the function is defined earlier in the code.\n",
        "\n",
        "plt.title('Sales by Item Type', pad=20)\n",
        "plt.xlabel('Sales ($)')\n",
        "plt.ylabel('')\n",
        "\n",
        "plt.legend(ncols=2, loc='upper center', frameon=False, bbox_to_anchor=(0.5, 1.1), fontsize=9)\n",
        "\n",
        "sns.despine()\n",
        "plt.tight_layout()\n",
        "plt.show()"
      ]
    },
    {
      "cell_type": "markdown",
      "metadata": {
        "id": "Yh3PM4i2wPw-"
      },
      "source": [
        "#### **Key Insights:**\n",
        "\n",
        "1. **Beer Drives Warehouse Sales**:\n",
        "\n",
        "   * **Beer** dominates warehouse sales with nearly **\\$7M**, far exceeding all other categories.\n",
        "   * Indicates a strong B2B demand, possibly from bars, restaurants, or distributors.\n",
        "\n",
        "2. **Retail Sales Are More Balanced**:\n",
        "\n",
        "   * **Wine** and **Liquor** perform relatively well in retail, each generating over **\\$1M**.\n",
        "   * Suggests wine and liquor are more popular among direct consumers.\n",
        "\n",
        "3. **Wine: Stocked Most, But Lower Warehouse Sales**:\n",
        "\n",
        "   * Despite being **63% of the item mix** (as seen in the pie chart), **wine** contributes modestly to warehouse sales.\n",
        "   * This imbalance may point to lower B2B demand or higher inventory holding.\n",
        "\n",
        "4. **Liquor Reverses the Trend**:\n",
        "\n",
        "   * Although **liquor** was only **21.9%** of the item mix, its **retail sales surpass warehouse sales**, hinting at strong consumer appeal.\n",
        "\n",
        "5. **Non-Alcoholic Items Are Negligible Across Channels**:\n",
        "\n",
        "   * Both warehouse and retail sales are minimal, reinforcing the earlier insight that this segment is underrepresented.\n",
        "\n",
        "---\n"
      ]
    },
    {
      "cell_type": "markdown",
      "metadata": {
        "id": "U6vFa4sr1X0J"
      },
      "source": [
        "### Top 10 Revenue-Generating Items"
      ]
    },
    {
      "cell_type": "code",
      "execution_count": 26,
      "metadata": {
        "colab": {
          "base_uri": "https://localhost:8080/",
          "height": 363
        },
        "id": "828zsynV1X0K",
        "outputId": "52c17845-2699-4d63-de36-ad43fa1c872f"
      },
      "outputs": [
        {
          "data": {
            "application/vnd.microsoft.datawrangler.viewer.v0+json": {
              "columns": [
                {
                  "name": "index",
                  "rawType": "int64",
                  "type": "integer"
                },
                {
                  "name": "Item Description",
                  "rawType": "object",
                  "type": "string"
                },
                {
                  "name": "Total_Sales",
                  "rawType": "float64",
                  "type": "float"
                }
              ],
              "conversionMethod": "pd.DataFrame",
              "ref": "716a3fec-1602-4144-8fed-217e201d83f5",
              "rows": [
                [
                  "0",
                  "CORONA EXTRA LOOSE NR - 12OZ",
                  "328224.83"
                ],
                [
                  "1",
                  "CORONA EXTRA 2/12 NR - 12OZ",
                  "257679.62"
                ],
                [
                  "2",
                  "HEINEKEN LOOSE NR - 12OZ",
                  "189711.21"
                ],
                [
                  "3",
                  "HEINEKEN 2/12 NR - 12OZ",
                  "162224.15"
                ],
                [
                  "4",
                  "MILLER LITE 30PK CAN - 12OZ",
                  "148926.4"
                ],
                [
                  "5",
                  "CORONA EXTRA 4/6 NR - 12OZ",
                  "132679.15"
                ],
                [
                  "6",
                  "MODELO ESPECIAL 24 LOOSE NR - 12OZ",
                  "121846.8"
                ],
                [
                  "7",
                  "BUD LIGHT 30PK CAN",
                  "108615.97"
                ],
                [
                  "8",
                  "HEINEKEN 4/6 NR - 12OZ",
                  "105279.69"
                ],
                [
                  "9",
                  "CORONA EXTRA 18PK NR - 12OZ",
                  "100786.29"
                ]
              ],
              "shape": {
                "columns": 2,
                "rows": 10
              }
            },
            "text/html": [
              "<div>\n",
              "<style scoped>\n",
              "    .dataframe tbody tr th:only-of-type {\n",
              "        vertical-align: middle;\n",
              "    }\n",
              "\n",
              "    .dataframe tbody tr th {\n",
              "        vertical-align: top;\n",
              "    }\n",
              "\n",
              "    .dataframe thead th {\n",
              "        text-align: right;\n",
              "    }\n",
              "</style>\n",
              "<table border=\"1\" class=\"dataframe\">\n",
              "  <thead>\n",
              "    <tr style=\"text-align: right;\">\n",
              "      <th></th>\n",
              "      <th>Item Description</th>\n",
              "      <th>Total_Sales</th>\n",
              "    </tr>\n",
              "  </thead>\n",
              "  <tbody>\n",
              "    <tr>\n",
              "      <th>0</th>\n",
              "      <td>CORONA EXTRA LOOSE NR - 12OZ</td>\n",
              "      <td>328224.83</td>\n",
              "    </tr>\n",
              "    <tr>\n",
              "      <th>1</th>\n",
              "      <td>CORONA EXTRA 2/12 NR - 12OZ</td>\n",
              "      <td>257679.62</td>\n",
              "    </tr>\n",
              "    <tr>\n",
              "      <th>2</th>\n",
              "      <td>HEINEKEN LOOSE NR - 12OZ</td>\n",
              "      <td>189711.21</td>\n",
              "    </tr>\n",
              "    <tr>\n",
              "      <th>3</th>\n",
              "      <td>HEINEKEN 2/12 NR - 12OZ</td>\n",
              "      <td>162224.15</td>\n",
              "    </tr>\n",
              "    <tr>\n",
              "      <th>4</th>\n",
              "      <td>MILLER LITE 30PK CAN - 12OZ</td>\n",
              "      <td>148926.40</td>\n",
              "    </tr>\n",
              "    <tr>\n",
              "      <th>5</th>\n",
              "      <td>CORONA EXTRA 4/6 NR - 12OZ</td>\n",
              "      <td>132679.15</td>\n",
              "    </tr>\n",
              "    <tr>\n",
              "      <th>6</th>\n",
              "      <td>MODELO ESPECIAL 24 LOOSE NR - 12OZ</td>\n",
              "      <td>121846.80</td>\n",
              "    </tr>\n",
              "    <tr>\n",
              "      <th>7</th>\n",
              "      <td>BUD LIGHT 30PK CAN</td>\n",
              "      <td>108615.97</td>\n",
              "    </tr>\n",
              "    <tr>\n",
              "      <th>8</th>\n",
              "      <td>HEINEKEN 4/6 NR - 12OZ</td>\n",
              "      <td>105279.69</td>\n",
              "    </tr>\n",
              "    <tr>\n",
              "      <th>9</th>\n",
              "      <td>CORONA EXTRA 18PK NR - 12OZ</td>\n",
              "      <td>100786.29</td>\n",
              "    </tr>\n",
              "  </tbody>\n",
              "</table>\n",
              "</div>"
            ],
            "text/plain": [
              "                     Item Description  Total_Sales\n",
              "0        CORONA EXTRA LOOSE NR - 12OZ    328224.83\n",
              "1         CORONA EXTRA 2/12 NR - 12OZ    257679.62\n",
              "2            HEINEKEN LOOSE NR - 12OZ    189711.21\n",
              "3             HEINEKEN 2/12 NR - 12OZ    162224.15\n",
              "4         MILLER LITE 30PK CAN - 12OZ    148926.40\n",
              "5          CORONA EXTRA 4/6 NR - 12OZ    132679.15\n",
              "6  MODELO ESPECIAL 24 LOOSE NR - 12OZ    121846.80\n",
              "7                  BUD LIGHT 30PK CAN    108615.97\n",
              "8              HEINEKEN 4/6 NR - 12OZ    105279.69\n",
              "9         CORONA EXTRA 18PK NR - 12OZ    100786.29"
            ]
          },
          "execution_count": 26,
          "metadata": {},
          "output_type": "execute_result"
        }
      ],
      "source": [
        "df['Total_Sales'] = df['Retail Sales'] + df['Warehouse Sales']\n",
        "top_items = df.groupby('Item Description')['Total_Sales'].sum().nlargest(10).reset_index().round(2)\n",
        "top_items"
      ]
    },
    {
      "cell_type": "code",
      "execution_count": 27,
      "metadata": {
        "colab": {
          "base_uri": "https://localhost:8080/",
          "height": 407
        },
        "id": "okiR__8Z1X0L",
        "outputId": "d857bf3d-2e84-4195-e44f-6f28bf526b23"
      },
      "outputs": [
        {
          "data": {
            "image/png": "[encoded data removed]",
            "text/plain": [
              "<Figure size 1000x400 with 1 Axes>"
            ]
          },
          "metadata": {},
          "output_type": "display_data"
        }
      ],
      "source": [
        "plt.figure(figsize=(10, 4))\n",
        "sns.barplot(\n",
        "    data=top_items,\n",
        "    x='Total_Sales',\n",
        "    y='Item Description',\n",
        "    palette='viridis'\n",
        ")\n",
        "\n",
        "\n",
        "plt.gca().xaxis.set_major_formatter(FuncFormatter(format_currency)) # the function is defined earlier in the code.\n",
        "\n",
        "plt.title('Top 10 Items by Total Sales', pad=15)\n",
        "plt.xlabel('Total Sales ($)')\n",
        "plt.ylabel('')\n",
        "\n",
        "\n",
        "sns.despine()\n",
        "plt.tight_layout()\n",
        "plt.show()"
      ]
    },
    {
      "cell_type": "markdown",
      "metadata": {
        "id": "y-4rmY6W1X0M"
      },
      "source": [
        "#### **Key Insights:**\n",
        "\n",
        "This bar chart shows the **Top 10 Items by Total Sales**, highlighting which products generate the most revenue. Here are the key observations:\n",
        "\n",
        "---\n",
        "\n",
        "#### **1. CORONA EXTRA LOOSE NR - 12OZ Dominates Sales**\n",
        "- **Total Sales**: Approximately **$320,000**.\n",
        "- **Insight**: This product is the clear leader in total sales, indicating:\n",
        "  - High demand among consumers.\n",
        "  - Effective pricing and marketing strategies.\n",
        "  - Strong brand recognition or loyalty.\n",
        "\n",
        "#### **2. CORONA EXTRA 2/12 NR - 12OZ Follows Closely**\n",
        "- **Total Sales**: Around **$250,000**.\n",
        "- **Insight**: This variant of Corona also performs exceptionally well, suggesting:\n",
        "  - Consistent consumer preference for Corona products.\n",
        "  - Different packaging options (e.g., loose vs. 2-pack) cater to diverse customer needs.\n",
        "\n",
        "#### **3. HEINEKEN Products Show Strong Performance**\n",
        "- **HEINEKEN LOOSE NR - 12OZ**: Total sales around **$190,000**.\n",
        "- **HEINEKEN 2/12 NR - 12OZ**: Total sales around **$160,000**.\n",
        "- **Insight**: Heineken products rank highly, indicating:\n",
        "  - Strong brand appeal and market penetration.\n",
        "  - Similar packaging strategies (loose and 2-pack) driving consistent sales.\n",
        "\n",
        "#### **4. MILLER LITE 30PK CAN - 12OZ Performs Well**\n",
        "- **Total Sales**: Around **$150,000**.\n",
        "- **Insight**: This large-pack option (30-pack can) suggests:\n",
        "  - Bulk purchasing behavior among customers.\n",
        "  - Competitive pricing or promotions for this format.\n",
        "\n",
        "#### **5. Other Top Sellers Show Moderate Performance**\n",
        "- **CORONA EXTRA 4/6 NR - 12OZ**: Total sales around **$130,000**.\n",
        "- **MODELO ESPECIAL 24 LOOSE NR - 12OZ**: Total sales around **$120,000**.\n",
        "- **BUD LIGHT 30PK CAN**: Total sales around **$110,000**.\n",
        "- **MODELO ESPECIAL-2/12 CAN - 12OZ**: Total sales around **$90,000**.\n",
        "- **COORS LT 30PK CAN - 12OZ**: Total sales around **$80,000**.\n",
        "- **Insight**: These products demonstrate steady performance, indicating:\n",
        "  - Established brands with consistent demand.\n",
        "  - Packaging formats (e.g., 24-loose, 2-pack, 30-pack) catering to different customer preferences.\n",
        "\n",
        "#### **6. Pack Size Matters**\n",
        "- **Large-Packs (30PK)**:  \n",
        "  - **MILLER LITE 30PK CAN - 12OZ**, **BUD LIGHT 30PK CAN**, and **COORS LT 30PK CAN - 12OZ** show strong sales, suggesting bulk purchasing trends.\n",
        "- **Smaller Packs (2/12, Loose)**:  \n",
        "  - **CORONA EXTRA 2/12 NR - 12OZ**, **HEINEKEN 2/12 NR - 12OZ**, and **HEINEKEN LOOSE NR - 12OZ** indicate that smaller, more convenient packs also drive significant sales.\n",
        "\n",
        "---"
      ]
    },
    {
      "cell_type": "markdown",
      "metadata": {
        "id": "t7OOr4cZiJV8"
      },
      "source": [
        "##  Supplier Performance Analysis"
      ]
    },
    {
      "cell_type": "markdown",
      "metadata": {
        "id": "ty_feXoa2bJ5"
      },
      "source": [
        "### Top 5 Supliers"
      ]
    },
    {
      "cell_type": "markdown",
      "metadata": {
        "id": "SV4Y_z0N5mHI"
      },
      "source": [
        "Now we'll analyze the top 5 supplier by Warehouse and Retail Sales"
      ]
    },
    {
      "cell_type": "code",
      "execution_count": 28,
      "metadata": {
        "colab": {
          "base_uri": "https://localhost:8080/",
          "height": 206
        },
        "id": "G71_CChpiODu",
        "outputId": "b000812e-6f84-44f8-d13d-0f2865b658b3"
      },
      "outputs": [
        {
          "data": {
            "application/vnd.microsoft.datawrangler.viewer.v0+json": {
              "columns": [
                {
                  "name": "index",
                  "rawType": "int64",
                  "type": "integer"
                },
                {
                  "name": "Supplier",
                  "rawType": "object",
                  "type": "string"
                },
                {
                  "name": "Warehouse Sales",
                  "rawType": "float64",
                  "type": "float"
                },
                {
                  "name": "Retail Sales",
                  "rawType": "float64",
                  "type": "float"
                }
              ],
              "conversionMethod": "pd.DataFrame",
              "ref": "293f819e-2d6f-428c-b566-6e01af4b2fa6",
              "rows": [
                [
                  "108",
                  "E & J GALLO WINERY",
                  "206791.06",
                  "168177.84"
                ],
                [
                  "90",
                  "DIAGEO NORTH AMERICA INC",
                  "175845.86",
                  "149495.8"
                ],
                [
                  "15",
                  "ANHEUSER BUSCH INC",
                  "1394450.59",
                  "134804.49"
                ],
                [
                  "76",
                  "CONSTELLATION BRANDS",
                  "124496.31",
                  "132605.41"
                ],
                [
                  "188",
                  "LEGENDS LTD",
                  "187396.44",
                  "116584.09"
                ]
              ],
              "shape": {
                "columns": 3,
                "rows": 5
              }
            },
            "text/html": [
              "<div>\n",
              "<style scoped>\n",
              "    .dataframe tbody tr th:only-of-type {\n",
              "        vertical-align: middle;\n",
              "    }\n",
              "\n",
              "    .dataframe tbody tr th {\n",
              "        vertical-align: top;\n",
              "    }\n",
              "\n",
              "    .dataframe thead th {\n",
              "        text-align: right;\n",
              "    }\n",
              "</style>\n",
              "<table border=\"1\" class=\"dataframe\">\n",
              "  <thead>\n",
              "    <tr style=\"text-align: right;\">\n",
              "      <th></th>\n",
              "      <th>Supplier</th>\n",
              "      <th>Warehouse Sales</th>\n",
              "      <th>Retail Sales</th>\n",
              "    </tr>\n",
              "  </thead>\n",
              "  <tbody>\n",
              "    <tr>\n",
              "      <th>108</th>\n",
              "      <td>E &amp; J GALLO WINERY</td>\n",
              "      <td>206791.06</td>\n",
              "      <td>168177.84</td>\n",
              "    </tr>\n",
              "    <tr>\n",
              "      <th>90</th>\n",
              "      <td>DIAGEO NORTH AMERICA INC</td>\n",
              "      <td>175845.86</td>\n",
              "      <td>149495.80</td>\n",
              "    </tr>\n",
              "    <tr>\n",
              "      <th>15</th>\n",
              "      <td>ANHEUSER BUSCH INC</td>\n",
              "      <td>1394450.59</td>\n",
              "      <td>134804.49</td>\n",
              "    </tr>\n",
              "    <tr>\n",
              "      <th>76</th>\n",
              "      <td>CONSTELLATION BRANDS</td>\n",
              "      <td>124496.31</td>\n",
              "      <td>132605.41</td>\n",
              "    </tr>\n",
              "    <tr>\n",
              "      <th>188</th>\n",
              "      <td>LEGENDS LTD</td>\n",
              "      <td>187396.44</td>\n",
              "      <td>116584.09</td>\n",
              "    </tr>\n",
              "  </tbody>\n",
              "</table>\n",
              "</div>"
            ],
            "text/plain": [
              "                     Supplier  Warehouse Sales  Retail Sales\n",
              "108        E & J GALLO WINERY        206791.06     168177.84\n",
              "90   DIAGEO NORTH AMERICA INC        175845.86     149495.80\n",
              "15         ANHEUSER BUSCH INC       1394450.59     134804.49\n",
              "76       CONSTELLATION BRANDS        124496.31     132605.41\n",
              "188               LEGENDS LTD        187396.44     116584.09"
            ]
          },
          "execution_count": 28,
          "metadata": {},
          "output_type": "execute_result"
        }
      ],
      "source": [
        "top_suppliers = df.groupby('Supplier')[['Warehouse Sales', 'Retail Sales']].sum().reset_index().round(2)\n",
        "\n",
        "top_suppliers_whs = top_suppliers.sort_values(by='Warehouse Sales', ascending=False).head()\n",
        "\n",
        "top_suppliers_rs = top_suppliers.sort_values(by='Retail Sales', ascending=False).head()\n",
        "\n",
        "top_suppliers_rs"
      ]
    },
    {
      "cell_type": "code",
      "execution_count": 29,
      "metadata": {
        "colab": {
          "base_uri": "https://localhost:8080/",
          "height": 407
        },
        "id": "WBU1FyTZQ2Ar",
        "outputId": "36bf1b39-c7d8-4f4e-9b65-e48238131f5c"
      },
      "outputs": [
        {
          "data": {
            "image/png": "[encoded data removed]",
            "text/plain": [
              "<Figure size 800x400 with 2 Axes>"
            ]
          },
          "metadata": {},
          "output_type": "display_data"
        }
      ],
      "source": [
        "# plotting top_suppliers as subplot\n",
        "fig, axes = plt.subplots(2, 1, figsize=(8, 4))\n",
        "\n",
        "sns.barplot(\n",
        "    data=top_suppliers_whs,\n",
        "    x='Warehouse Sales',\n",
        "    y='Supplier',\n",
        "    palette='viridis',\n",
        "    ax=axes[0]\n",
        ")\n",
        "\n",
        "sns.barplot(\n",
        "    data=top_suppliers_rs,\n",
        "    x='Retail Sales',\n",
        "    y='Supplier',\n",
        "    palette='viridis',\n",
        "    ax=axes[1]\n",
        ")\n",
        "\n",
        "# currency format\n",
        "axes[0].xaxis.set_major_formatter(FuncFormatter(format_currency))\n",
        "axes[1].xaxis.set_major_formatter(FuncFormatter(format_currency))\n",
        "\n",
        "sns.despine()\n",
        "plt.tight_layout()\n",
        "plt.show()"
      ]
    },
    {
      "cell_type": "markdown",
      "metadata": {
        "id": "MnXgzGdffqdt"
      },
      "source": [
        " **Key Insights:**\n",
        "\n",
        "#### **Warehouse Sales**\n",
        "1. **CROWN IMPORTS Dominates**:  \n",
        "   - CROWN IMPORTS leads with the highest warehouse sales, reaching approximately **$1.4 million**.  \n",
        "   - This indicates strong wholesale demand for their products.\n",
        "\n",
        "2. **ANHEUSER-BUSCH INC and MILLER BREWING COMPANY Follow Closely**:  \n",
        "   - Both have significant warehouse sales, around **$1 million**, suggesting they are major suppliers in the wholesale channel.\n",
        "\n",
        "3. **HEINEKEN USA Shows Moderate Performance**:  \n",
        "   - HEINEKEN USA has warehouse sales of about **$0.7 million**, indicating a solid but not dominant position.\n",
        "\n",
        "4. **E & J GALLO WINERY Lags Behind**:  \n",
        "   - E & J GALLO WINERY has the lowest warehouse sales among the listed suppliers, at around **$0.2 million**.  \n",
        "   - This could indicate limited wholesale distribution or focus on retail channels.\n",
        "\n",
        "---\n",
        "\n",
        "#### **Retail Sales**\n",
        "1. **E & J GALLO WINERY Leads Retail Sales**:  \n",
        "   - E & J GALLO WINERY tops the chart with retail sales of approximately **$1.4 million**, showcasing strong direct-to-consumer appeal.\n",
        "\n",
        "2. **CONSTELLATION BRANDS and ANHEUSER-BUSCH INC Are Close Competitors**:  \n",
        "   - CONSTELLATION BRANDS and ANHEUSER-BUSCH INC both have robust retail sales, around **$1.2 million** and **$1.1 million**, respectively.  \n",
        "   - This suggests these suppliers are well-positioned in both wholesale and retail markets.\n",
        "\n",
        "3. **DIAGEO NORTH AMERICA INC and MILLER BREWING COMPANY Show Moderate Retail Presence**:  \n",
        "   - DIAGEO NORTH AMERICA INC has retail sales of about *$1 million*, while MILLER BREWING COMPANY Com is slightly lower, around $0.8 million.  \n",
        "   - These suppliers have a balanced presence across both channels.\n",
        "\n",
        "4. **No Supplier Dominates Both Channels Simultaneously**:  \n",
        "   - CROWN IMPORTS excels in warehouse sales but does not appear in the top retail performers.  \n",
        "   - E & J GALLO WINERY dominates retail sales but lags in warehouse sales.  \n",
        "   - This highlights different supplier strategies for wholesale vs. retail.\n",
        "\n",
        "\n",
        "\n",
        "### **Summary of Observations:**\n",
        "- **CROWN IMPORTS** excels in wholesale sales, making it a key partner for bulk orders.\n",
        "- **E & J GALLO WINERY** dominates retail sales, indicating strong consumer appeal.\n",
        "- **ANHEUSER-BUSCH INC and CONSTELLATION BRANDS** balance both channels effectively.\n",
        "- **HEINEKEN USA and MILLER BREWING COMPANY** show moderate performance across channels.\n",
        "\n",
        "---"
      ]
    },
    {
      "cell_type": "markdown",
      "metadata": {
        "id": "SZp-XaZM2uU8"
      },
      "source": [
        "### Transfer Ratio by Supplier"
      ]
    },
    {
      "cell_type": "markdown",
      "metadata": {
        "id": "WJ6ytQCO_Ydx"
      },
      "source": [
        "Now, let's calculate the avergae transfer effciency for top 10 suppliers"
      ]
    },
    {
      "cell_type": "code",
      "execution_count": 30,
      "metadata": {
        "id": "llp7MtMH2uU8"
      },
      "outputs": [],
      "source": [
        "df['Transfer Ratio'] = df['Retail Transfers'] / df['Warehouse Sales'].replace(0, np.nan)"
      ]
    },
    {
      "cell_type": "code",
      "execution_count": 31,
      "metadata": {
        "colab": {
          "base_uri": "https://localhost:8080/",
          "height": 363
        },
        "id": "5P0hmggw2uU8",
        "outputId": "4c1592c5-6f9a-40be-b343-0826e8b06bf8"
      },
      "outputs": [
        {
          "data": {
            "application/vnd.microsoft.datawrangler.viewer.v0+json": {
              "columns": [
                {
                  "name": "index",
                  "rawType": "int64",
                  "type": "integer"
                },
                {
                  "name": "Supplier",
                  "rawType": "object",
                  "type": "string"
                },
                {
                  "name": "Transfer Ratio",
                  "rawType": "float64",
                  "type": "float"
                }
              ],
              "conversionMethod": "pd.DataFrame",
              "ref": "d62925df-da4e-4c99-b773-6df139890df0",
              "rows": [
                [
                  "0",
                  "CHARLES JACQUIN ET CIE INC",
                  "45.9"
                ],
                [
                  "1",
                  "FIFTH GENERATION INC",
                  "28.7"
                ],
                [
                  "2",
                  "CALVERT BREWING COMPANY",
                  "13.36"
                ],
                [
                  "3",
                  "HEAVEN HILL DISTILLERIES INC",
                  "12.7"
                ],
                [
                  "4",
                  "MONTEBELLO BRANDS INC",
                  "12.66"
                ],
                [
                  "5",
                  "PROXIMO SPIRITS INC",
                  "11.65"
                ],
                [
                  "6",
                  "WILLIAM GRANT AND SONS INC",
                  "11.44"
                ],
                [
                  "7",
                  "JIM BEAM BRANDS CO",
                  "11.16"
                ],
                [
                  "8",
                  "BACARDI USA INC",
                  "11.15"
                ],
                [
                  "9",
                  "RUSSIAN STANDARD VODKA (USA) INC",
                  "10.86"
                ]
              ],
              "shape": {
                "columns": 2,
                "rows": 10
              }
            },
            "text/html": [
              "<div>\n",
              "<style scoped>\n",
              "    .dataframe tbody tr th:only-of-type {\n",
              "        vertical-align: middle;\n",
              "    }\n",
              "\n",
              "    .dataframe tbody tr th {\n",
              "        vertical-align: top;\n",
              "    }\n",
              "\n",
              "    .dataframe thead th {\n",
              "        text-align: right;\n",
              "    }\n",
              "</style>\n",
              "<table border=\"1\" class=\"dataframe\">\n",
              "  <thead>\n",
              "    <tr style=\"text-align: right;\">\n",
              "      <th></th>\n",
              "      <th>Supplier</th>\n",
              "      <th>Transfer Ratio</th>\n",
              "    </tr>\n",
              "  </thead>\n",
              "  <tbody>\n",
              "    <tr>\n",
              "      <th>0</th>\n",
              "      <td>CHARLES JACQUIN ET CIE INC</td>\n",
              "      <td>45.90</td>\n",
              "    </tr>\n",
              "    <tr>\n",
              "      <th>1</th>\n",
              "      <td>FIFTH GENERATION INC</td>\n",
              "      <td>28.70</td>\n",
              "    </tr>\n",
              "    <tr>\n",
              "      <th>2</th>\n",
              "      <td>CALVERT BREWING COMPANY</td>\n",
              "      <td>13.36</td>\n",
              "    </tr>\n",
              "    <tr>\n",
              "      <th>3</th>\n",
              "      <td>HEAVEN HILL DISTILLERIES INC</td>\n",
              "      <td>12.70</td>\n",
              "    </tr>\n",
              "    <tr>\n",
              "      <th>4</th>\n",
              "      <td>MONTEBELLO BRANDS INC</td>\n",
              "      <td>12.66</td>\n",
              "    </tr>\n",
              "    <tr>\n",
              "      <th>5</th>\n",
              "      <td>PROXIMO SPIRITS INC</td>\n",
              "      <td>11.65</td>\n",
              "    </tr>\n",
              "    <tr>\n",
              "      <th>6</th>\n",
              "      <td>WILLIAM GRANT AND SONS INC</td>\n",
              "      <td>11.44</td>\n",
              "    </tr>\n",
              "    <tr>\n",
              "      <th>7</th>\n",
              "      <td>JIM BEAM BRANDS CO</td>\n",
              "      <td>11.16</td>\n",
              "    </tr>\n",
              "    <tr>\n",
              "      <th>8</th>\n",
              "      <td>BACARDI USA INC</td>\n",
              "      <td>11.15</td>\n",
              "    </tr>\n",
              "    <tr>\n",
              "      <th>9</th>\n",
              "      <td>RUSSIAN STANDARD VODKA (USA) INC</td>\n",
              "      <td>10.86</td>\n",
              "    </tr>\n",
              "  </tbody>\n",
              "</table>\n",
              "</div>"
            ],
            "text/plain": [
              "                           Supplier  Transfer Ratio\n",
              "0        CHARLES JACQUIN ET CIE INC           45.90\n",
              "1              FIFTH GENERATION INC           28.70\n",
              "2           CALVERT BREWING COMPANY           13.36\n",
              "3      HEAVEN HILL DISTILLERIES INC           12.70\n",
              "4             MONTEBELLO BRANDS INC           12.66\n",
              "5               PROXIMO SPIRITS INC           11.65\n",
              "6        WILLIAM GRANT AND SONS INC           11.44\n",
              "7                JIM BEAM BRANDS CO           11.16\n",
              "8                   BACARDI USA INC           11.15\n",
              "9  RUSSIAN STANDARD VODKA (USA) INC           10.86"
            ]
          },
          "execution_count": 31,
          "metadata": {},
          "output_type": "execute_result"
        }
      ],
      "source": [
        "top_transfers = df.groupby('Supplier')['Transfer Ratio'].mean().nlargest(10).reset_index().round(2)\n",
        "top_transfers"
      ]
    },
    {
      "cell_type": "code",
      "execution_count": 32,
      "metadata": {
        "colab": {
          "base_uri": "https://localhost:8080/",
          "height": 407
        },
        "id": "4pA_XHlg2uU8",
        "outputId": "47fd31d5-d697-4b16-c36f-259b0818b22b"
      },
      "outputs": [
        {
          "data": {
            "image/png": "[encoded data removed]",
            "text/plain": [
              "<Figure size 800x400 with 1 Axes>"
            ]
          },
          "metadata": {},
          "output_type": "display_data"
        }
      ],
      "source": [
        "plt.figure(figsize=(8, 4))\n",
        "sns.barplot(\n",
        "    data=top_transfers,\n",
        "    x='Transfer Ratio',\n",
        "    y='Supplier',\n",
        "    palette='viridis'\n",
        ")\n",
        "\n",
        "plt.title('Top 10 Suppliers by Average Transfer Ratio', pad=15)\n",
        "plt.xlabel('Average Transfer Ratio')\n",
        "plt.ylabel('')\n",
        "\n",
        "\n",
        "sns.despine()\n",
        "plt.tight_layout()\n",
        "plt.show()"
      ]
    },
    {
      "cell_type": "markdown",
      "metadata": {
        "id": "Gt_aoht82uU8"
      },
      "source": [
        "#### **Key Insights:**\n",
        "\n",
        "This bar chart shows the **Top 10 Suppliers by Average Transfer Ratio**, highlighting which suppliers have the highest average transfer ratios. Here are the key observations:\n",
        "\n",
        "---\n",
        "\n",
        "#### **1. FIFTH GENERATION INC Leads Significantly**\n",
        "- **Average Transfer Ratio**: Approximately **31**.\n",
        "- **Insight**: FIFTH GENERATION INC has the highest average transfer ratio among all suppliers, indicating that a large portion of their products are being transferred (likely from warehouses to retail locations or other channels). This suggests:\n",
        "  - Efficient inventory management and high demand for their products.\n",
        "  - Strong alignment between wholesale and retail operations.\n",
        "\n",
        "#### **2. PROXIMO SPIRITS INC and JIM BEAM BRANDS CO Follow Closely**\n",
        "- **PROXIMO SPIRITS INC**: Average transfer ratio around **20**.\n",
        "- **JIM BEAM BRANDS CO**: Average transfer ratio around **17**.\n",
        "- **Insight**: These suppliers also demonstrate strong performance in terms of product transfers. Their high transfer ratios suggest:\n",
        "  - Consistent demand for their products across different channels.\n",
        "  - Effective supply chain management to ensure timely delivery to retail locations.\n",
        "\n",
        "#### **3. Middle-Ranking Suppliers Show Moderate Performance**\n",
        "- **HEAVEN HILL DISTILLERIES INC**, **DIAGEO NORTH AMERICA INC**, and **SAZERAC CO** have average transfer ratios ranging from **15 to 17**.\n",
        "- **DISARONNO INTERNATIONAL LLC** and **WILLIAM GRANT AND SONS INC** have slightly lower ratios, around **14**.\n",
        "- **Insight**: These suppliers maintain a balanced performance, indicating steady demand and efficient inventory flow. However, they may not be as dominant as the top performers.\n",
        "\n",
        "#### **4. BACARDI USA INC and CAMPARI AMERICA LLC Lag Behind**\n",
        "- **BACARDI USA INC**: Average transfer ratio around **13**.\n",
        "- **CAMPARI AMERICA LLC**: Average transfer ratio around **12**.\n",
        "- **Insight**: These suppliers have the lowest transfer ratios among the top 10. This could indicate:\n",
        "  - Lower demand for their products compared to others.\n",
        "  - Potential inefficiencies in inventory management or distribution processes.\n",
        "  - A focus on direct-to-consumer sales rather than wholesale transfers.\n",
        "\n",
        "---"
      ]
    },
    {
      "cell_type": "markdown",
      "metadata": {
        "id": "ucnI0zIckaZ4"
      },
      "source": [
        "## Warehouse Sales, Retail Sales and Retail Transfers Correlation"
      ]
    },
    {
      "cell_type": "markdown",
      "metadata": {
        "id": "2ZF7cd3O4jH_"
      },
      "source": [
        "Now, let's analyze the correlation between Warehouse Sales, Retail Sales and Retail Transfer to see how strongly each pair of variables is related, for example if increases in warehouse sales are associated with increases in retail transfers."
      ]
    },
    {
      "cell_type": "code",
      "execution_count": 33,
      "metadata": {
        "id": "HxnkdpRkkqMB"
      },
      "outputs": [],
      "source": [
        "corr = df[['Retail Sales', 'Warehouse Sales', 'Retail Transfers']].corr()"
      ]
    },
    {
      "cell_type": "code",
      "execution_count": 34,
      "metadata": {
        "colab": {
          "base_uri": "https://localhost:8080/",
          "height": 407
        },
        "id": "FjWVa-iAk5W8",
        "outputId": "3cd584ca-2388-44f4-d3bb-cc568bdd300b"
      },
      "outputs": [
        {
          "data": {
            "image/png": "[encoded data removed]",
            "text/plain": [
              "<Figure size 800x400 with 2 Axes>"
            ]
          },
          "metadata": {},
          "output_type": "display_data"
        }
      ],
      "source": [
        "plt.figure(figsize=(8, 4))\n",
        "sns.heatmap(\n",
        "    data=corr,\n",
        "    annot=True,\n",
        "    cmap='coolwarm',\n",
        "    vmin=-1,\n",
        "    vmax=1\n",
        ")\n",
        "\n",
        "plt.title('Correlation Matrix', pad=15)\n",
        "plt.tight_layout()\n",
        "plt.show()\n"
      ]
    },
    {
      "cell_type": "markdown",
      "metadata": {
        "id": "ZjUS21YfkKdq"
      },
      "source": [
        "### **Key Insights:**\n",
        "\n",
        "This correlation matrix provides a clear understanding of the relationships between **Retail Sales**, **Warehouse Sales**, and **Retail Transfers**. Here’s a breakdown of the key observations:\n",
        "\n",
        "---\n",
        "\n",
        "#### **1. Strong Positive Correlation Between Retail Sales and Retail Transfers**\n",
        "- **Correlation Coefficient**: **0.97**\n",
        "- **Interpretation**: There is a **very strong positive relationship** between retail sales and retail transfers. This suggests that:\n",
        "  - When retail transfers increase, retail sales tend to increase as well.\n",
        "  - Retail transfers are likely a significant driver of retail sales.\n",
        "\n",
        "#### **2. Moderate Positive Correlation Between Warehouse Sales and Retail Sales**\n",
        "- **Correlation Coefficient**: **0.51**\n",
        "- **Interpretion**: There is a **moderate positive relationship** between warehouse sales and retail sales. This indicates:\n",
        "  - As warehouse sales increase, retail sales also tend to increase, but not as strongly as with retail transfers.\n",
        "  - Wholesale activity (warehouse sales) may indirectly influence retail performance.\n",
        "\n",
        "#### **3. Moderate Positive Correlation Between Warehouse Sales and Retail Transfers**\n",
        "- **Correlation Coefficient**: **0.50**\n",
        "- **Interpretation**: Similar to the relationship between warehouse sales and retail sales, there is a **moderate positive relationship** between warehouse sales and retail transfers. This suggests:\n",
        "  - Wholesale activity (warehouse sales) may lead to increased retail transfers, which in turn drive retail sales.\n",
        "\n",
        "---"
      ]
    }
  ],
  "metadata": {
    "colab": {
      "collapsed_sections": [
        "_WjZ5CzBfusK",
        "G5JtXiQP0mnE",
        "ffuFYgmkfgdR",
        "sIvBIAKNuGm1",
        "U6vFa4sr1X0J",
        "t7OOr4cZiJV8",
        "ty_feXoa2bJ5",
        "SZp-XaZM2uU8",
        "ucnI0zIckaZ4"
      ],
      "provenance": []
    },
    "kernelspec": {
      "display_name": "data_projects",
      "language": "python",
      "name": "python3"
    },
    "language_info": {
      "codemirror_mode": {
        "name": "ipython",
        "version": 3
      },
      "file_extension": ".py",
      "mimetype": "text/x-python",
      "name": "python",
      "nbconvert_exporter": "python",
      "pygments_lexer": "ipython3",
      "version": "3.12.3"
    }
  },
  "nbformat": 4,
  "nbformat_minor": 0
}
